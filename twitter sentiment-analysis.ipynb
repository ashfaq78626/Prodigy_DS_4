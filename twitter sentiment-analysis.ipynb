{
 "cells": [
  {
   "cell_type": "code",
   "execution_count": 1,
   "id": "0637f50f",
   "metadata": {
    "_cell_guid": "b1076dfc-b9ad-4769-8c92-a6c4dae69d19",
    "_uuid": "8f2839f25d086af736a60e9eeb907d3b93b6e0e5",
    "execution": {
     "iopub.execute_input": "2023-10-30T16:51:54.670882Z",
     "iopub.status.busy": "2023-10-30T16:51:54.670261Z",
     "iopub.status.idle": "2023-10-30T16:51:54.994487Z",
     "shell.execute_reply": "2023-10-30T16:51:54.993303Z"
    },
    "papermill": {
     "duration": 0.336055,
     "end_time": "2023-10-30T16:51:54.996504",
     "exception": false,
     "start_time": "2023-10-30T16:51:54.660449",
     "status": "completed"
    },
    "tags": []
   },
   "outputs": [
    {
     "name": "stdout",
     "output_type": "stream",
     "text": [
      "/kaggle/input/twitter-entity-sentiment-analysis/twitter_validation.csv\n",
      "/kaggle/input/twitter-entity-sentiment-analysis/twitter_training.csv\n"
     ]
    }
   ],
   "source": [
    "# This Python 3 environment comes with many helpful analytics libraries installed\n",
    "# It is defined by the kaggle/python Docker image: https://github.com/kaggle/docker-python\n",
    "# For example, here's several helpful packages to load\n",
    "\n",
    "import numpy as np # linear algebra\n",
    "import pandas as pd # data processing, CSV file I/O (e.g. pd.read_csv)\n",
    "\n",
    "# Input data files are available in the read-only \"../input/\" directory\n",
    "# For example, running this (by clicking run or pressing Shift+Enter) will list all files under the input directory\n",
    "\n",
    "import os\n",
    "for dirname, _, filenames in os.walk('/kaggle/input'):\n",
    "    for filename in filenames:\n",
    "        print(os.path.join(dirname, filename))\n",
    "\n",
    "# You can write up to 20GB to the current directory (/kaggle/working/) that gets preserved as output when you create a version using \"Save & Run All\" \n",
    "# You can also write temporary files to /kaggle/temp/, but they won't be saved outside of the current session"
   ]
  },
  {
   "cell_type": "code",
   "execution_count": 2,
   "id": "57c422fd",
   "metadata": {
    "execution": {
     "iopub.execute_input": "2023-10-30T16:51:55.015731Z",
     "iopub.status.busy": "2023-10-30T16:51:55.015130Z",
     "iopub.status.idle": "2023-10-30T16:51:55.019201Z",
     "shell.execute_reply": "2023-10-30T16:51:55.018033Z"
    },
    "papermill": {
     "duration": 0.017058,
     "end_time": "2023-10-30T16:51:55.021693",
     "exception": false,
     "start_time": "2023-10-30T16:51:55.004635",
     "status": "completed"
    },
    "tags": []
   },
   "outputs": [],
   "source": [
    "import pandas as pd\n",
    "import numpy as np\n"
   ]
  },
  {
   "cell_type": "code",
   "execution_count": 3,
   "id": "f439d773",
   "metadata": {
    "execution": {
     "iopub.execute_input": "2023-10-30T16:51:55.039628Z",
     "iopub.status.busy": "2023-10-30T16:51:55.038883Z",
     "iopub.status.idle": "2023-10-30T16:51:55.327100Z",
     "shell.execute_reply": "2023-10-30T16:51:55.325805Z"
    },
    "papermill": {
     "duration": 0.299938,
     "end_time": "2023-10-30T16:51:55.329707",
     "exception": false,
     "start_time": "2023-10-30T16:51:55.029769",
     "status": "completed"
    },
    "tags": []
   },
   "outputs": [],
   "source": [
    "columns = ['id','country','Label','Text']\n",
    "df=pd.read_csv('/kaggle/input/twitter-entity-sentiment-analysis/twitter_training.csv',names=columns)"
   ]
  },
  {
   "cell_type": "code",
   "execution_count": 4,
   "id": "a506075c",
   "metadata": {
    "execution": {
     "iopub.execute_input": "2023-10-30T16:51:55.347034Z",
     "iopub.status.busy": "2023-10-30T16:51:55.346670Z",
     "iopub.status.idle": "2023-10-30T16:51:55.371237Z",
     "shell.execute_reply": "2023-10-30T16:51:55.370512Z"
    },
    "papermill": {
     "duration": 0.035852,
     "end_time": "2023-10-30T16:51:55.373531",
     "exception": false,
     "start_time": "2023-10-30T16:51:55.337679",
     "status": "completed"
    },
    "tags": []
   },
   "outputs": [
    {
     "data": {
      "text/html": [
       "<div>\n",
       "<style scoped>\n",
       "    .dataframe tbody tr th:only-of-type {\n",
       "        vertical-align: middle;\n",
       "    }\n",
       "\n",
       "    .dataframe tbody tr th {\n",
       "        vertical-align: top;\n",
       "    }\n",
       "\n",
       "    .dataframe thead th {\n",
       "        text-align: right;\n",
       "    }\n",
       "</style>\n",
       "<table border=\"1\" class=\"dataframe\">\n",
       "  <thead>\n",
       "    <tr style=\"text-align: right;\">\n",
       "      <th></th>\n",
       "      <th>id</th>\n",
       "      <th>country</th>\n",
       "      <th>Label</th>\n",
       "      <th>Text</th>\n",
       "    </tr>\n",
       "  </thead>\n",
       "  <tbody>\n",
       "    <tr>\n",
       "      <th>0</th>\n",
       "      <td>2401</td>\n",
       "      <td>Borderlands</td>\n",
       "      <td>Positive</td>\n",
       "      <td>im getting on borderlands and i will murder yo...</td>\n",
       "    </tr>\n",
       "    <tr>\n",
       "      <th>1</th>\n",
       "      <td>2401</td>\n",
       "      <td>Borderlands</td>\n",
       "      <td>Positive</td>\n",
       "      <td>I am coming to the borders and I will kill you...</td>\n",
       "    </tr>\n",
       "    <tr>\n",
       "      <th>2</th>\n",
       "      <td>2401</td>\n",
       "      <td>Borderlands</td>\n",
       "      <td>Positive</td>\n",
       "      <td>im getting on borderlands and i will kill you ...</td>\n",
       "    </tr>\n",
       "    <tr>\n",
       "      <th>3</th>\n",
       "      <td>2401</td>\n",
       "      <td>Borderlands</td>\n",
       "      <td>Positive</td>\n",
       "      <td>im coming on borderlands and i will murder you...</td>\n",
       "    </tr>\n",
       "    <tr>\n",
       "      <th>4</th>\n",
       "      <td>2401</td>\n",
       "      <td>Borderlands</td>\n",
       "      <td>Positive</td>\n",
       "      <td>im getting on borderlands 2 and i will murder ...</td>\n",
       "    </tr>\n",
       "  </tbody>\n",
       "</table>\n",
       "</div>"
      ],
      "text/plain": [
       "     id      country     Label  \\\n",
       "0  2401  Borderlands  Positive   \n",
       "1  2401  Borderlands  Positive   \n",
       "2  2401  Borderlands  Positive   \n",
       "3  2401  Borderlands  Positive   \n",
       "4  2401  Borderlands  Positive   \n",
       "\n",
       "                                                Text  \n",
       "0  im getting on borderlands and i will murder yo...  \n",
       "1  I am coming to the borders and I will kill you...  \n",
       "2  im getting on borderlands and i will kill you ...  \n",
       "3  im coming on borderlands and i will murder you...  \n",
       "4  im getting on borderlands 2 and i will murder ...  "
      ]
     },
     "execution_count": 4,
     "metadata": {},
     "output_type": "execute_result"
    }
   ],
   "source": [
    "df.head()"
   ]
  },
  {
   "cell_type": "code",
   "execution_count": 5,
   "id": "50ac0f5a",
   "metadata": {
    "execution": {
     "iopub.execute_input": "2023-10-30T16:51:55.391944Z",
     "iopub.status.busy": "2023-10-30T16:51:55.391588Z",
     "iopub.status.idle": "2023-10-30T16:51:55.398914Z",
     "shell.execute_reply": "2023-10-30T16:51:55.397507Z"
    },
    "papermill": {
     "duration": 0.019221,
     "end_time": "2023-10-30T16:51:55.401442",
     "exception": false,
     "start_time": "2023-10-30T16:51:55.382221",
     "status": "completed"
    },
    "tags": []
   },
   "outputs": [
    {
     "data": {
      "text/plain": [
       "(74682, 4)"
      ]
     },
     "execution_count": 5,
     "metadata": {},
     "output_type": "execute_result"
    }
   ],
   "source": [
    "df.shape"
   ]
  },
  {
   "cell_type": "code",
   "execution_count": 6,
   "id": "a722d1ef",
   "metadata": {
    "execution": {
     "iopub.execute_input": "2023-10-30T16:51:55.420159Z",
     "iopub.status.busy": "2023-10-30T16:51:55.419583Z",
     "iopub.status.idle": "2023-10-30T16:51:55.426796Z",
     "shell.execute_reply": "2023-10-30T16:51:55.425571Z"
    },
    "papermill": {
     "duration": 0.019072,
     "end_time": "2023-10-30T16:51:55.429077",
     "exception": false,
     "start_time": "2023-10-30T16:51:55.410005",
     "status": "completed"
    },
    "tags": []
   },
   "outputs": [
    {
     "data": {
      "text/plain": [
       "id          int64\n",
       "country    object\n",
       "Label      object\n",
       "Text       object\n",
       "dtype: object"
      ]
     },
     "execution_count": 6,
     "metadata": {},
     "output_type": "execute_result"
    }
   ],
   "source": [
    "df.dtypes"
   ]
  },
  {
   "cell_type": "code",
   "execution_count": 7,
   "id": "797b0fae",
   "metadata": {
    "execution": {
     "iopub.execute_input": "2023-10-30T16:51:55.447803Z",
     "iopub.status.busy": "2023-10-30T16:51:55.447196Z",
     "iopub.status.idle": "2023-10-30T16:51:55.454124Z",
     "shell.execute_reply": "2023-10-30T16:51:55.452670Z"
    },
    "papermill": {
     "duration": 0.019315,
     "end_time": "2023-10-30T16:51:55.457014",
     "exception": false,
     "start_time": "2023-10-30T16:51:55.437699",
     "status": "completed"
    },
    "tags": []
   },
   "outputs": [],
   "source": [
    "list_text=df['Text'].tolist()"
   ]
  },
  {
   "cell_type": "code",
   "execution_count": 8,
   "id": "e2669c20",
   "metadata": {
    "execution": {
     "iopub.execute_input": "2023-10-30T16:51:55.474942Z",
     "iopub.status.busy": "2023-10-30T16:51:55.474348Z",
     "iopub.status.idle": "2023-10-30T16:51:55.481333Z",
     "shell.execute_reply": "2023-10-30T16:51:55.480362Z"
    },
    "papermill": {
     "duration": 0.017762,
     "end_time": "2023-10-30T16:51:55.483044",
     "exception": false,
     "start_time": "2023-10-30T16:51:55.465282",
     "status": "completed"
    },
    "tags": []
   },
   "outputs": [
    {
     "data": {
      "text/plain": [
       "74682"
      ]
     },
     "execution_count": 8,
     "metadata": {},
     "output_type": "execute_result"
    }
   ],
   "source": [
    "len(list_text)"
   ]
  },
  {
   "cell_type": "code",
   "execution_count": 9,
   "id": "091ef7b7",
   "metadata": {
    "execution": {
     "iopub.execute_input": "2023-10-30T16:51:55.502558Z",
     "iopub.status.busy": "2023-10-30T16:51:55.501816Z",
     "iopub.status.idle": "2023-10-30T16:52:15.962305Z",
     "shell.execute_reply": "2023-10-30T16:52:15.961282Z"
    },
    "papermill": {
     "duration": 20.473387,
     "end_time": "2023-10-30T16:52:15.964751",
     "exception": false,
     "start_time": "2023-10-30T16:51:55.491364",
     "status": "completed"
    },
    "tags": []
   },
   "outputs": [],
   "source": [
    "from transformers import pipeline\n",
    "from transformers import AutoTokenizer,AutoModelForSequenceClassification"
   ]
  },
  {
   "cell_type": "code",
   "execution_count": 10,
   "id": "9d0cfef7",
   "metadata": {
    "execution": {
     "iopub.execute_input": "2023-10-30T16:52:15.984575Z",
     "iopub.status.busy": "2023-10-30T16:52:15.983607Z",
     "iopub.status.idle": "2023-10-30T16:52:15.987672Z",
     "shell.execute_reply": "2023-10-30T16:52:15.986869Z"
    },
    "papermill": {
     "duration": 0.016023,
     "end_time": "2023-10-30T16:52:15.989627",
     "exception": false,
     "start_time": "2023-10-30T16:52:15.973604",
     "status": "completed"
    },
    "tags": []
   },
   "outputs": [],
   "source": [
    "model_name='distilbert-base-uncased-finetuned-sst-2-english'"
   ]
  },
  {
   "cell_type": "code",
   "execution_count": 11,
   "id": "90279abb",
   "metadata": {
    "execution": {
     "iopub.execute_input": "2023-10-30T16:52:16.011509Z",
     "iopub.status.busy": "2023-10-30T16:52:16.010877Z",
     "iopub.status.idle": "2023-10-30T16:52:19.339356Z",
     "shell.execute_reply": "2023-10-30T16:52:19.337668Z"
    },
    "papermill": {
     "duration": 3.343272,
     "end_time": "2023-10-30T16:52:19.342132",
     "exception": false,
     "start_time": "2023-10-30T16:52:15.998860",
     "status": "completed"
    },
    "tags": []
   },
   "outputs": [
    {
     "data": {
      "application/vnd.jupyter.widget-view+json": {
       "model_id": "b441254671484680967037e971634900",
       "version_major": 2,
       "version_minor": 0
      },
      "text/plain": [
       "Downloading (…)lve/main/config.json:   0%|          | 0.00/629 [00:00<?, ?B/s]"
      ]
     },
     "metadata": {},
     "output_type": "display_data"
    },
    {
     "data": {
      "application/vnd.jupyter.widget-view+json": {
       "model_id": "33b778290f0c4d7e97a34bfc2f6d969f",
       "version_major": 2,
       "version_minor": 0
      },
      "text/plain": [
       "Downloading model.safetensors:   0%|          | 0.00/268M [00:00<?, ?B/s]"
      ]
     },
     "metadata": {},
     "output_type": "display_data"
    },
    {
     "data": {
      "application/vnd.jupyter.widget-view+json": {
       "model_id": "b37c8721c28d4a769b61ebda973a17fa",
       "version_major": 2,
       "version_minor": 0
      },
      "text/plain": [
       "Downloading (…)okenizer_config.json:   0%|          | 0.00/48.0 [00:00<?, ?B/s]"
      ]
     },
     "metadata": {},
     "output_type": "display_data"
    },
    {
     "data": {
      "application/vnd.jupyter.widget-view+json": {
       "model_id": "0ad9a9d8b8de44579d47be8b5d7b7611",
       "version_major": 2,
       "version_minor": 0
      },
      "text/plain": [
       "Downloading (…)solve/main/vocab.txt:   0%|          | 0.00/232k [00:00<?, ?B/s]"
      ]
     },
     "metadata": {},
     "output_type": "display_data"
    }
   ],
   "source": [
    "model=AutoModelForSequenceClassification.from_pretrained(model_name)\n",
    "tokenizer=AutoTokenizer.from_pretrained(model_name)"
   ]
  },
  {
   "cell_type": "code",
   "execution_count": 12,
   "id": "00973496",
   "metadata": {
    "execution": {
     "iopub.execute_input": "2023-10-30T16:52:19.363254Z",
     "iopub.status.busy": "2023-10-30T16:52:19.361468Z",
     "iopub.status.idle": "2023-10-30T16:52:19.369090Z",
     "shell.execute_reply": "2023-10-30T16:52:19.367479Z"
    },
    "papermill": {
     "duration": 0.020306,
     "end_time": "2023-10-30T16:52:19.371569",
     "exception": false,
     "start_time": "2023-10-30T16:52:19.351263",
     "status": "completed"
    },
    "tags": []
   },
   "outputs": [],
   "source": [
    "classifier=pipeline('sentiment-analysis', model=model, tokenizer=tokenizer)"
   ]
  },
  {
   "cell_type": "code",
   "execution_count": 13,
   "id": "a446339d",
   "metadata": {
    "execution": {
     "iopub.execute_input": "2023-10-30T16:52:19.391137Z",
     "iopub.status.busy": "2023-10-30T16:52:19.390777Z",
     "iopub.status.idle": "2023-10-30T16:52:21.556198Z",
     "shell.execute_reply": "2023-10-30T16:52:21.555200Z"
    },
    "papermill": {
     "duration": 2.177233,
     "end_time": "2023-10-30T16:52:21.557885",
     "exception": false,
     "start_time": "2023-10-30T16:52:19.380652",
     "status": "completed"
    },
    "tags": []
   },
   "outputs": [
    {
     "data": {
      "text/plain": [
       "[{'label': 'NEGATIVE', 'score': 0.9834704995155334},\n",
       " {'label': 'POSITIVE', 'score': 0.9932871460914612},\n",
       " {'label': 'POSITIVE', 'score': 0.9783738851547241},\n",
       " {'label': 'NEGATIVE', 'score': 0.9768757820129395},\n",
       " {'label': 'POSITIVE', 'score': 0.701887845993042},\n",
       " {'label': 'NEGATIVE', 'score': 0.9805619120597839},\n",
       " {'label': 'NEGATIVE', 'score': 0.7845344543457031},\n",
       " {'label': 'NEGATIVE', 'score': 0.9357830286026001},\n",
       " {'label': 'POSITIVE', 'score': 0.9987744688987732},\n",
       " {'label': 'NEGATIVE', 'score': 0.9372895956039429},\n",
       " {'label': 'NEGATIVE', 'score': 0.9648422598838806},\n",
       " {'label': 'POSITIVE', 'score': 0.7795964479446411},\n",
       " {'label': 'POSITIVE', 'score': 0.9972885847091675},\n",
       " {'label': 'POSITIVE', 'score': 0.9972885847091675},\n",
       " {'label': 'POSITIVE', 'score': 0.9980003237724304},\n",
       " {'label': 'POSITIVE', 'score': 0.998803973197937},\n",
       " {'label': 'POSITIVE', 'score': 0.9034885764122009},\n",
       " {'label': 'NEGATIVE', 'score': 0.9396255612373352},\n",
       " {'label': 'POSITIVE', 'score': 0.9994412064552307},\n",
       " {'label': 'POSITIVE', 'score': 0.999355137348175},\n",
       " {'label': 'POSITIVE', 'score': 0.9994412064552307},\n",
       " {'label': 'POSITIVE', 'score': 0.9996585845947266},\n",
       " {'label': 'POSITIVE', 'score': 0.9978618025779724},\n",
       " {'label': 'NEGATIVE', 'score': 0.9911395907402039},\n",
       " {'label': 'NEGATIVE', 'score': 0.9978687763214111},\n",
       " {'label': 'NEGATIVE', 'score': 0.9997771382331848},\n",
       " {'label': 'NEGATIVE', 'score': 0.9997771382331848},\n",
       " {'label': 'NEGATIVE', 'score': 0.9978229999542236},\n",
       " {'label': 'NEGATIVE', 'score': 0.9943879246711731},\n",
       " {'label': 'NEGATIVE', 'score': 0.9918830394744873},\n",
       " {'label': 'POSITIVE', 'score': 0.9988110065460205},\n",
       " {'label': 'POSITIVE', 'score': 0.9992619156837463},\n",
       " {'label': 'POSITIVE', 'score': 0.9989387392997742},\n",
       " {'label': 'POSITIVE', 'score': 0.9994556307792664},\n",
       " {'label': 'POSITIVE', 'score': 0.9929199814796448}]"
      ]
     },
     "execution_count": 13,
     "metadata": {},
     "output_type": "execute_result"
    }
   ],
   "source": [
    "#ressult_score=[]\n",
    "#for i in range(len(df['Text'])):\n",
    "results=classifier(list(df['Text'][:35]))\n",
    "results"
   ]
  },
  {
   "cell_type": "code",
   "execution_count": 14,
   "id": "297a6151",
   "metadata": {
    "execution": {
     "iopub.execute_input": "2023-10-30T16:52:21.579136Z",
     "iopub.status.busy": "2023-10-30T16:52:21.578489Z",
     "iopub.status.idle": "2023-10-30T16:52:21.588284Z",
     "shell.execute_reply": "2023-10-30T16:52:21.585526Z"
    },
    "papermill": {
     "duration": 0.024826,
     "end_time": "2023-10-30T16:52:21.591763",
     "exception": false,
     "start_time": "2023-10-30T16:52:21.566937",
     "status": "completed"
    },
    "tags": []
   },
   "outputs": [
    {
     "data": {
      "text/plain": [
       "['im',\n",
       " 'getting',\n",
       " 'on',\n",
       " 'border',\n",
       " '##lands',\n",
       " 'and',\n",
       " 'i',\n",
       " 'will',\n",
       " 'murder',\n",
       " 'you',\n",
       " 'all',\n",
       " ',']"
      ]
     },
     "execution_count": 14,
     "metadata": {},
     "output_type": "execute_result"
    }
   ],
   "source": [
    "token=tokenizer.tokenize(df['Text'][0])\n",
    "token"
   ]
  },
  {
   "cell_type": "code",
   "execution_count": 15,
   "id": "492113b4",
   "metadata": {
    "execution": {
     "iopub.execute_input": "2023-10-30T16:52:21.622521Z",
     "iopub.status.busy": "2023-10-30T16:52:21.621064Z",
     "iopub.status.idle": "2023-10-30T16:52:21.633484Z",
     "shell.execute_reply": "2023-10-30T16:52:21.631988Z"
    },
    "papermill": {
     "duration": 0.034348,
     "end_time": "2023-10-30T16:52:21.638086",
     "exception": false,
     "start_time": "2023-10-30T16:52:21.603738",
     "status": "completed"
    },
    "tags": []
   },
   "outputs": [
    {
     "data": {
      "text/plain": [
       "[10047, 2893, 2006, 3675, 8653, 1998, 1045, 2097, 4028, 2017, 2035, 1010]"
      ]
     },
     "execution_count": 15,
     "metadata": {},
     "output_type": "execute_result"
    }
   ],
   "source": [
    "token_id=tokenizer.convert_tokens_to_ids(token)\n",
    "token_id"
   ]
  },
  {
   "cell_type": "code",
   "execution_count": 16,
   "id": "6ac07ceb",
   "metadata": {
    "execution": {
     "iopub.execute_input": "2023-10-30T16:52:21.671117Z",
     "iopub.status.busy": "2023-10-30T16:52:21.670428Z",
     "iopub.status.idle": "2023-10-30T16:52:21.679827Z",
     "shell.execute_reply": "2023-10-30T16:52:21.679129Z"
    },
    "papermill": {
     "duration": 0.029745,
     "end_time": "2023-10-30T16:52:21.681606",
     "exception": false,
     "start_time": "2023-10-30T16:52:21.651861",
     "status": "completed"
    },
    "tags": []
   },
   "outputs": [
    {
     "data": {
      "text/plain": [
       "{'input_ids': [101, 10047, 2893, 2006, 3675, 8653, 1998, 1045, 2097, 4028, 2017, 2035, 1010, 102], 'attention_mask': [1, 1, 1, 1, 1, 1, 1, 1, 1, 1, 1, 1, 1, 1]}"
      ]
     },
     "execution_count": 16,
     "metadata": {},
     "output_type": "execute_result"
    }
   ],
   "source": [
    "input_ids=tokenizer(df['Text'][0])\n",
    "input_ids"
   ]
  },
  {
   "cell_type": "code",
   "execution_count": 17,
   "id": "ac6cd2b8",
   "metadata": {
    "execution": {
     "iopub.execute_input": "2023-10-30T16:52:21.706421Z",
     "iopub.status.busy": "2023-10-30T16:52:21.706095Z",
     "iopub.status.idle": "2023-10-30T16:52:21.710330Z",
     "shell.execute_reply": "2023-10-30T16:52:21.709481Z"
    },
    "papermill": {
     "duration": 0.020934,
     "end_time": "2023-10-30T16:52:21.712007",
     "exception": false,
     "start_time": "2023-10-30T16:52:21.691073",
     "status": "completed"
    },
    "tags": []
   },
   "outputs": [],
   "source": [
    "X_train=list(df['Text'][:10])"
   ]
  },
  {
   "cell_type": "code",
   "execution_count": 18,
   "id": "918bbb28",
   "metadata": {
    "execution": {
     "iopub.execute_input": "2023-10-30T16:52:21.784434Z",
     "iopub.status.busy": "2023-10-30T16:52:21.783763Z",
     "iopub.status.idle": "2023-10-30T16:52:21.798874Z",
     "shell.execute_reply": "2023-10-30T16:52:21.798051Z"
    },
    "papermill": {
     "duration": 0.081157,
     "end_time": "2023-10-30T16:52:21.802498",
     "exception": false,
     "start_time": "2023-10-30T16:52:21.721341",
     "status": "completed"
    },
    "tags": []
   },
   "outputs": [
    {
     "data": {
      "text/plain": [
       "{'input_ids': tensor([[  101, 10047,  2893,  2006,  3675,  8653,  1998,  1045,  2097,  4028,\n",
       "          2017,  2035,  1010,   102,     0,     0,     0,     0,     0,     0,\n",
       "             0,     0,     0,     0,     0,     0,     0,     0,     0,     0,\n",
       "             0,     0,     0,     0,     0,     0,     0,     0,     0,     0,\n",
       "             0,     0,     0,     0,     0,     0,     0,     0,     0,     0,\n",
       "             0,     0,     0,     0,     0,     0,     0,     0,     0,     0,\n",
       "             0,     0,     0,     0,     0,     0,     0,     0,     0,     0,\n",
       "             0,     0,     0,     0,     0,     0,     0,     0,     0,     0,\n",
       "             0,     0,     0,     0],\n",
       "        [  101,  1045,  2572,  2746,  2000,  1996,  6645,  1998,  1045,  2097,\n",
       "          3102,  2017,  2035,  1010,   102,     0,     0,     0,     0,     0,\n",
       "             0,     0,     0,     0,     0,     0,     0,     0,     0,     0,\n",
       "             0,     0,     0,     0,     0,     0,     0,     0,     0,     0,\n",
       "             0,     0,     0,     0,     0,     0,     0,     0,     0,     0,\n",
       "             0,     0,     0,     0,     0,     0,     0,     0,     0,     0,\n",
       "             0,     0,     0,     0,     0,     0,     0,     0,     0,     0,\n",
       "             0,     0,     0,     0,     0,     0,     0,     0,     0,     0,\n",
       "             0,     0,     0,     0],\n",
       "        [  101, 10047,  2893,  2006,  3675,  8653,  1998,  1045,  2097,  3102,\n",
       "          2017,  2035,  1010,   102,     0,     0,     0,     0,     0,     0,\n",
       "             0,     0,     0,     0,     0,     0,     0,     0,     0,     0,\n",
       "             0,     0,     0,     0,     0,     0,     0,     0,     0,     0,\n",
       "             0,     0,     0,     0,     0,     0,     0,     0,     0,     0,\n",
       "             0,     0,     0,     0,     0,     0,     0,     0,     0,     0,\n",
       "             0,     0,     0,     0,     0,     0,     0,     0,     0,     0,\n",
       "             0,     0,     0,     0,     0,     0,     0,     0,     0,     0,\n",
       "             0,     0,     0,     0],\n",
       "        [  101, 10047,  2746,  2006,  3675,  8653,  1998,  1045,  2097,  4028,\n",
       "          2017,  2035,  1010,   102,     0,     0,     0,     0,     0,     0,\n",
       "             0,     0,     0,     0,     0,     0,     0,     0,     0,     0,\n",
       "             0,     0,     0,     0,     0,     0,     0,     0,     0,     0,\n",
       "             0,     0,     0,     0,     0,     0,     0,     0,     0,     0,\n",
       "             0,     0,     0,     0,     0,     0,     0,     0,     0,     0,\n",
       "             0,     0,     0,     0,     0,     0,     0,     0,     0,     0,\n",
       "             0,     0,     0,     0,     0,     0,     0,     0,     0,     0,\n",
       "             0,     0,     0,     0],\n",
       "        [  101, 10047,  2893,  2006,  3675,  8653,  1016,  1998,  1045,  2097,\n",
       "          4028,  2017,  2033,  2035,  1010,   102,     0,     0,     0,     0,\n",
       "             0,     0,     0,     0,     0,     0,     0,     0,     0,     0,\n",
       "             0,     0,     0,     0,     0,     0,     0,     0,     0,     0,\n",
       "             0,     0,     0,     0,     0,     0,     0,     0,     0,     0,\n",
       "             0,     0,     0,     0,     0,     0,     0,     0,     0,     0,\n",
       "             0,     0,     0,     0,     0,     0,     0,     0,     0,     0,\n",
       "             0,     0,     0,     0,     0,     0,     0,     0,     0,     0,\n",
       "             0,     0,     0,     0],\n",
       "        [  101, 10047,  2893,  2046,  3675,  8653,  1998,  1045,  2064,  4028,\n",
       "          2017,  2035,  1010,   102,     0,     0,     0,     0,     0,     0,\n",
       "             0,     0,     0,     0,     0,     0,     0,     0,     0,     0,\n",
       "             0,     0,     0,     0,     0,     0,     0,     0,     0,     0,\n",
       "             0,     0,     0,     0,     0,     0,     0,     0,     0,     0,\n",
       "             0,     0,     0,     0,     0,     0,     0,     0,     0,     0,\n",
       "             0,     0,     0,     0,     0,     0,     0,     0,     0,     0,\n",
       "             0,     0,     0,     0,     0,     0,     0,     0,     0,     0,\n",
       "             0,     0,     0,     0],\n",
       "        [  101,  2061,  1045,  2985,  1037,  2261,  2847,  2437,  2242,  2005,\n",
       "          4569,  1012,  1012,  1012,  2065,  2017,  2123,  1005,  1056,  2113,\n",
       "          1045,  2572,  1037,  4121,  1030,  3675,  8653,  5470,  1998,  9815,\n",
       "          2003,  2028,  1997,  2026,  5440,  3494,  1012,  2061,  1045,  2787,\n",
       "          2000,  2191,  2870,  1037,  2813, 23298,  2005,  2026,  7473,  1012,\n",
       "          1012,  2182,  2003,  1996,  2434,  3746,  6431,  1996,  4325,  1045,\n",
       "          2081,  1024,  1007,  5959,   999, 27263,  1012, 10474,  1012,  4012,\n",
       "          1013, 16287,  2072,  2629,  2860,  2546,  2683,  3501,  2290,   102,\n",
       "             0,     0,     0,     0],\n",
       "        [  101,  2061,  1045,  2985,  1037,  3232,  1997,  2847,  2725,  2242,\n",
       "          2005,  4569,  1012,  1012,  1012,  2065,  2017,  2123,  1005,  1056,\n",
       "          2113,  2008,  1045,  1005,  1049,  1037,  4121,  1030,  3675,  8653,\n",
       "          5470,  1998,  9815,  2003,  2028,  1997,  2026,  5440,  3494,  1010,\n",
       "          1045,  2787,  2000,  2191,  1037,  2813, 23298,  2005,  2026,  7473,\n",
       "          1012,  1012,  2182,  1005,  1055,  1996,  2434,  3861,  4102,  2000,\n",
       "          1996,  4325,  1045,  2081,  1024,  1007,  2031,  4569,   999, 27263,\n",
       "          1012, 10474,  1012,  4012,  1013, 16287,  2072,  2629,  2860,  2546,\n",
       "          2683,  3501,  2290,   102],\n",
       "        [  101,  2061,  1045,  2985,  1037,  2261,  2847,  2725,  2242,  2005,\n",
       "          4569,  1012,  1012,  1012,  2065,  2017,  2123,  1005,  1056,  2113,\n",
       "          1045,  1005,  1049,  1037,  4121,  1030,  3675,  8653,  5470,  1998,\n",
       "          9815,  2003,  2028,  1997,  2026,  5440,  3494,  1012,   102,     0,\n",
       "             0,     0,     0,     0,     0,     0,     0,     0,     0,     0,\n",
       "             0,     0,     0,     0,     0,     0,     0,     0,     0,     0,\n",
       "             0,     0,     0,     0,     0,     0,     0,     0,     0,     0,\n",
       "             0,     0,     0,     0,     0,     0,     0,     0,     0,     0,\n",
       "             0,     0,     0,     0],\n",
       "        [  101,  2061,  1045,  2985,  1037,  2261,  2847,  2437,  2242,  2005,\n",
       "          4569,  1012,  1012,  1012,  2065,  2017,  2123,  1005,  1056,  2113,\n",
       "          1045,  2572,  1037,  4121,  1054, 11774,  3917,  2099,  5470,  1998,\n",
       "          9815,  2003,  2028,  1997,  2026,  5440,  3494,  1012,  2061,  1045,\n",
       "          2787,  2000,  2191,  2870,  1037,  2813, 23298,  2005,  2026,  7473,\n",
       "          1012,  1012,  2182,  2003,  1996,  2434,  3746,  6431,  1996,  4325,\n",
       "          1045,  2081,  1024,  1007,  5959,   999, 27263,  1012, 10474,  1012,\n",
       "          4012,  1013, 16287,  2072,  2629,  2860,  2546,  2683,  3501,  2290,\n",
       "           102,     0,     0,     0]]), 'attention_mask': tensor([[1, 1, 1, 1, 1, 1, 1, 1, 1, 1, 1, 1, 1, 1, 0, 0, 0, 0, 0, 0, 0, 0, 0, 0,\n",
       "         0, 0, 0, 0, 0, 0, 0, 0, 0, 0, 0, 0, 0, 0, 0, 0, 0, 0, 0, 0, 0, 0, 0, 0,\n",
       "         0, 0, 0, 0, 0, 0, 0, 0, 0, 0, 0, 0, 0, 0, 0, 0, 0, 0, 0, 0, 0, 0, 0, 0,\n",
       "         0, 0, 0, 0, 0, 0, 0, 0, 0, 0, 0, 0],\n",
       "        [1, 1, 1, 1, 1, 1, 1, 1, 1, 1, 1, 1, 1, 1, 1, 0, 0, 0, 0, 0, 0, 0, 0, 0,\n",
       "         0, 0, 0, 0, 0, 0, 0, 0, 0, 0, 0, 0, 0, 0, 0, 0, 0, 0, 0, 0, 0, 0, 0, 0,\n",
       "         0, 0, 0, 0, 0, 0, 0, 0, 0, 0, 0, 0, 0, 0, 0, 0, 0, 0, 0, 0, 0, 0, 0, 0,\n",
       "         0, 0, 0, 0, 0, 0, 0, 0, 0, 0, 0, 0],\n",
       "        [1, 1, 1, 1, 1, 1, 1, 1, 1, 1, 1, 1, 1, 1, 0, 0, 0, 0, 0, 0, 0, 0, 0, 0,\n",
       "         0, 0, 0, 0, 0, 0, 0, 0, 0, 0, 0, 0, 0, 0, 0, 0, 0, 0, 0, 0, 0, 0, 0, 0,\n",
       "         0, 0, 0, 0, 0, 0, 0, 0, 0, 0, 0, 0, 0, 0, 0, 0, 0, 0, 0, 0, 0, 0, 0, 0,\n",
       "         0, 0, 0, 0, 0, 0, 0, 0, 0, 0, 0, 0],\n",
       "        [1, 1, 1, 1, 1, 1, 1, 1, 1, 1, 1, 1, 1, 1, 0, 0, 0, 0, 0, 0, 0, 0, 0, 0,\n",
       "         0, 0, 0, 0, 0, 0, 0, 0, 0, 0, 0, 0, 0, 0, 0, 0, 0, 0, 0, 0, 0, 0, 0, 0,\n",
       "         0, 0, 0, 0, 0, 0, 0, 0, 0, 0, 0, 0, 0, 0, 0, 0, 0, 0, 0, 0, 0, 0, 0, 0,\n",
       "         0, 0, 0, 0, 0, 0, 0, 0, 0, 0, 0, 0],\n",
       "        [1, 1, 1, 1, 1, 1, 1, 1, 1, 1, 1, 1, 1, 1, 1, 1, 0, 0, 0, 0, 0, 0, 0, 0,\n",
       "         0, 0, 0, 0, 0, 0, 0, 0, 0, 0, 0, 0, 0, 0, 0, 0, 0, 0, 0, 0, 0, 0, 0, 0,\n",
       "         0, 0, 0, 0, 0, 0, 0, 0, 0, 0, 0, 0, 0, 0, 0, 0, 0, 0, 0, 0, 0, 0, 0, 0,\n",
       "         0, 0, 0, 0, 0, 0, 0, 0, 0, 0, 0, 0],\n",
       "        [1, 1, 1, 1, 1, 1, 1, 1, 1, 1, 1, 1, 1, 1, 0, 0, 0, 0, 0, 0, 0, 0, 0, 0,\n",
       "         0, 0, 0, 0, 0, 0, 0, 0, 0, 0, 0, 0, 0, 0, 0, 0, 0, 0, 0, 0, 0, 0, 0, 0,\n",
       "         0, 0, 0, 0, 0, 0, 0, 0, 0, 0, 0, 0, 0, 0, 0, 0, 0, 0, 0, 0, 0, 0, 0, 0,\n",
       "         0, 0, 0, 0, 0, 0, 0, 0, 0, 0, 0, 0],\n",
       "        [1, 1, 1, 1, 1, 1, 1, 1, 1, 1, 1, 1, 1, 1, 1, 1, 1, 1, 1, 1, 1, 1, 1, 1,\n",
       "         1, 1, 1, 1, 1, 1, 1, 1, 1, 1, 1, 1, 1, 1, 1, 1, 1, 1, 1, 1, 1, 1, 1, 1,\n",
       "         1, 1, 1, 1, 1, 1, 1, 1, 1, 1, 1, 1, 1, 1, 1, 1, 1, 1, 1, 1, 1, 1, 1, 1,\n",
       "         1, 1, 1, 1, 1, 1, 1, 1, 0, 0, 0, 0],\n",
       "        [1, 1, 1, 1, 1, 1, 1, 1, 1, 1, 1, 1, 1, 1, 1, 1, 1, 1, 1, 1, 1, 1, 1, 1,\n",
       "         1, 1, 1, 1, 1, 1, 1, 1, 1, 1, 1, 1, 1, 1, 1, 1, 1, 1, 1, 1, 1, 1, 1, 1,\n",
       "         1, 1, 1, 1, 1, 1, 1, 1, 1, 1, 1, 1, 1, 1, 1, 1, 1, 1, 1, 1, 1, 1, 1, 1,\n",
       "         1, 1, 1, 1, 1, 1, 1, 1, 1, 1, 1, 1],\n",
       "        [1, 1, 1, 1, 1, 1, 1, 1, 1, 1, 1, 1, 1, 1, 1, 1, 1, 1, 1, 1, 1, 1, 1, 1,\n",
       "         1, 1, 1, 1, 1, 1, 1, 1, 1, 1, 1, 1, 1, 1, 1, 0, 0, 0, 0, 0, 0, 0, 0, 0,\n",
       "         0, 0, 0, 0, 0, 0, 0, 0, 0, 0, 0, 0, 0, 0, 0, 0, 0, 0, 0, 0, 0, 0, 0, 0,\n",
       "         0, 0, 0, 0, 0, 0, 0, 0, 0, 0, 0, 0],\n",
       "        [1, 1, 1, 1, 1, 1, 1, 1, 1, 1, 1, 1, 1, 1, 1, 1, 1, 1, 1, 1, 1, 1, 1, 1,\n",
       "         1, 1, 1, 1, 1, 1, 1, 1, 1, 1, 1, 1, 1, 1, 1, 1, 1, 1, 1, 1, 1, 1, 1, 1,\n",
       "         1, 1, 1, 1, 1, 1, 1, 1, 1, 1, 1, 1, 1, 1, 1, 1, 1, 1, 1, 1, 1, 1, 1, 1,\n",
       "         1, 1, 1, 1, 1, 1, 1, 1, 1, 0, 0, 0]])}"
      ]
     },
     "execution_count": 18,
     "metadata": {},
     "output_type": "execute_result"
    }
   ],
   "source": [
    "batch=tokenizer(X_train,padding=True,truncation=True,max_length=512,return_tensors='pt')\n",
    "batch"
   ]
  },
  {
   "cell_type": "code",
   "execution_count": 19,
   "id": "bf89bb4e",
   "metadata": {
    "execution": {
     "iopub.execute_input": "2023-10-30T16:52:21.825270Z",
     "iopub.status.busy": "2023-10-30T16:52:21.824867Z",
     "iopub.status.idle": "2023-10-30T16:52:21.829877Z",
     "shell.execute_reply": "2023-10-30T16:52:21.828580Z"
    },
    "papermill": {
     "duration": 0.019004,
     "end_time": "2023-10-30T16:52:21.832113",
     "exception": false,
     "start_time": "2023-10-30T16:52:21.813109",
     "status": "completed"
    },
    "tags": []
   },
   "outputs": [],
   "source": [
    "import torch\n",
    "import torch.nn.functional as F"
   ]
  },
  {
   "cell_type": "code",
   "execution_count": 20,
   "id": "47d6ef55",
   "metadata": {
    "execution": {
     "iopub.execute_input": "2023-10-30T16:52:21.854123Z",
     "iopub.status.busy": "2023-10-30T16:52:21.853500Z",
     "iopub.status.idle": "2023-10-30T16:52:22.461244Z",
     "shell.execute_reply": "2023-10-30T16:52:22.459801Z"
    },
    "papermill": {
     "duration": 0.621694,
     "end_time": "2023-10-30T16:52:22.463744",
     "exception": false,
     "start_time": "2023-10-30T16:52:21.842050",
     "status": "completed"
    },
    "tags": []
   },
   "outputs": [
    {
     "name": "stdout",
     "output_type": "stream",
     "text": [
      "SequenceClassifierOutput(loss=None, logits=tensor([[ 2.2075, -1.8785],\n",
      "        [-2.4459,  2.5511],\n",
      "        [-1.8743,  1.9377],\n",
      "        [ 2.0326, -1.7109],\n",
      "        [-0.3719,  0.4844],\n",
      "        [ 2.1153, -1.8056],\n",
      "        [ 0.6950, -0.5973],\n",
      "        [ 1.4526, -1.2266],\n",
      "        [-3.2673,  3.4359],\n",
      "        [ 1.4471, -1.2574]]), hidden_states=None, attentions=None)\n",
      "tensor([[0.9835, 0.0165],\n",
      "        [0.0067, 0.9933],\n",
      "        [0.0216, 0.9784],\n",
      "        [0.9769, 0.0231],\n",
      "        [0.2981, 0.7019],\n",
      "        [0.9806, 0.0194],\n",
      "        [0.7845, 0.2155],\n",
      "        [0.9358, 0.0642],\n",
      "        [0.0012, 0.9988],\n",
      "        [0.9373, 0.0627]])\n",
      "tensor([0, 1, 1, 0, 1, 0, 0, 0, 1, 0])\n",
      "['NEGATIVE', 'POSITIVE', 'POSITIVE', 'NEGATIVE', 'POSITIVE', 'NEGATIVE', 'NEGATIVE', 'NEGATIVE', 'POSITIVE', 'NEGATIVE']\n"
     ]
    }
   ],
   "source": [
    "with torch.no_grad():\n",
    "    outputs=model(**batch)\n",
    "    print(outputs)\n",
    "    predictions=F.softmax(outputs.logits, dim=1)\n",
    "    print(predictions)\n",
    "    labels=torch.argmax(predictions,dim=1)\n",
    "    print(labels)\n",
    "    labels=[model.config.id2label[label_id] for label_id in labels.tolist()]\n",
    "    print(labels)"
   ]
  },
  {
   "cell_type": "code",
   "execution_count": 21,
   "id": "335566f6",
   "metadata": {
    "execution": {
     "iopub.execute_input": "2023-10-30T16:52:22.486375Z",
     "iopub.status.busy": "2023-10-30T16:52:22.485782Z",
     "iopub.status.idle": "2023-10-30T16:52:22.492273Z",
     "shell.execute_reply": "2023-10-30T16:52:22.491479Z"
    },
    "papermill": {
     "duration": 0.019862,
     "end_time": "2023-10-30T16:52:22.494138",
     "exception": false,
     "start_time": "2023-10-30T16:52:22.474276",
     "status": "completed"
    },
    "tags": []
   },
   "outputs": [
    {
     "data": {
      "text/plain": [
       "['Positive',\n",
       " 'Positive',\n",
       " 'Positive',\n",
       " 'Positive',\n",
       " 'Positive',\n",
       " 'Positive',\n",
       " 'Positive',\n",
       " 'Positive',\n",
       " 'Positive',\n",
       " 'Positive']"
      ]
     },
     "execution_count": 21,
     "metadata": {},
     "output_type": "execute_result"
    }
   ],
   "source": [
    "df['Label'][:10].tolist()"
   ]
  },
  {
   "cell_type": "code",
   "execution_count": 22,
   "id": "5addc599",
   "metadata": {
    "execution": {
     "iopub.execute_input": "2023-10-30T16:52:22.516104Z",
     "iopub.status.busy": "2023-10-30T16:52:22.515533Z",
     "iopub.status.idle": "2023-10-30T16:52:22.526208Z",
     "shell.execute_reply": "2023-10-30T16:52:22.524765Z"
    },
    "papermill": {
     "duration": 0.024235,
     "end_time": "2023-10-30T16:52:22.528482",
     "exception": false,
     "start_time": "2023-10-30T16:52:22.504247",
     "status": "completed"
    },
    "tags": []
   },
   "outputs": [
    {
     "data": {
      "text/html": [
       "<div>\n",
       "<style scoped>\n",
       "    .dataframe tbody tr th:only-of-type {\n",
       "        vertical-align: middle;\n",
       "    }\n",
       "\n",
       "    .dataframe tbody tr th {\n",
       "        vertical-align: top;\n",
       "    }\n",
       "\n",
       "    .dataframe thead th {\n",
       "        text-align: right;\n",
       "    }\n",
       "</style>\n",
       "<table border=\"1\" class=\"dataframe\">\n",
       "  <thead>\n",
       "    <tr style=\"text-align: right;\">\n",
       "      <th></th>\n",
       "      <th>id</th>\n",
       "      <th>country</th>\n",
       "      <th>Label</th>\n",
       "      <th>Text</th>\n",
       "    </tr>\n",
       "  </thead>\n",
       "  <tbody>\n",
       "    <tr>\n",
       "      <th>0</th>\n",
       "      <td>2401</td>\n",
       "      <td>Borderlands</td>\n",
       "      <td>Positive</td>\n",
       "      <td>im getting on borderlands and i will murder yo...</td>\n",
       "    </tr>\n",
       "    <tr>\n",
       "      <th>1</th>\n",
       "      <td>2401</td>\n",
       "      <td>Borderlands</td>\n",
       "      <td>Positive</td>\n",
       "      <td>I am coming to the borders and I will kill you...</td>\n",
       "    </tr>\n",
       "    <tr>\n",
       "      <th>2</th>\n",
       "      <td>2401</td>\n",
       "      <td>Borderlands</td>\n",
       "      <td>Positive</td>\n",
       "      <td>im getting on borderlands and i will kill you ...</td>\n",
       "    </tr>\n",
       "    <tr>\n",
       "      <th>3</th>\n",
       "      <td>2401</td>\n",
       "      <td>Borderlands</td>\n",
       "      <td>Positive</td>\n",
       "      <td>im coming on borderlands and i will murder you...</td>\n",
       "    </tr>\n",
       "    <tr>\n",
       "      <th>4</th>\n",
       "      <td>2401</td>\n",
       "      <td>Borderlands</td>\n",
       "      <td>Positive</td>\n",
       "      <td>im getting on borderlands 2 and i will murder ...</td>\n",
       "    </tr>\n",
       "  </tbody>\n",
       "</table>\n",
       "</div>"
      ],
      "text/plain": [
       "     id      country     Label  \\\n",
       "0  2401  Borderlands  Positive   \n",
       "1  2401  Borderlands  Positive   \n",
       "2  2401  Borderlands  Positive   \n",
       "3  2401  Borderlands  Positive   \n",
       "4  2401  Borderlands  Positive   \n",
       "\n",
       "                                                Text  \n",
       "0  im getting on borderlands and i will murder yo...  \n",
       "1  I am coming to the borders and I will kill you...  \n",
       "2  im getting on borderlands and i will kill you ...  \n",
       "3  im coming on borderlands and i will murder you...  \n",
       "4  im getting on borderlands 2 and i will murder ...  "
      ]
     },
     "execution_count": 22,
     "metadata": {},
     "output_type": "execute_result"
    }
   ],
   "source": [
    "df.head()"
   ]
  },
  {
   "cell_type": "code",
   "execution_count": null,
   "id": "9ea5bc55",
   "metadata": {
    "papermill": {
     "duration": 0.010075,
     "end_time": "2023-10-30T16:52:22.549502",
     "exception": false,
     "start_time": "2023-10-30T16:52:22.539427",
     "status": "completed"
    },
    "tags": []
   },
   "outputs": [],
   "source": []
  },
  {
   "cell_type": "code",
   "execution_count": 23,
   "id": "aafdfd8e",
   "metadata": {
    "execution": {
     "iopub.execute_input": "2023-10-30T16:52:22.573170Z",
     "iopub.status.busy": "2023-10-30T16:52:22.572400Z",
     "iopub.status.idle": "2023-10-30T16:52:22.576226Z",
     "shell.execute_reply": "2023-10-30T16:52:22.575539Z"
    },
    "papermill": {
     "duration": 0.018618,
     "end_time": "2023-10-30T16:52:22.578400",
     "exception": false,
     "start_time": "2023-10-30T16:52:22.559782",
     "status": "completed"
    },
    "tags": []
   },
   "outputs": [],
   "source": [
    "import re"
   ]
  },
  {
   "cell_type": "code",
   "execution_count": null,
   "id": "d06ae6dc",
   "metadata": {
    "papermill": {
     "duration": 0.009665,
     "end_time": "2023-10-30T16:52:22.598571",
     "exception": false,
     "start_time": "2023-10-30T16:52:22.588906",
     "status": "completed"
    },
    "tags": []
   },
   "outputs": [],
   "source": []
  },
  {
   "cell_type": "code",
   "execution_count": 24,
   "id": "34142a6f",
   "metadata": {
    "execution": {
     "iopub.execute_input": "2023-10-30T16:52:22.620573Z",
     "iopub.status.busy": "2023-10-30T16:52:22.620000Z",
     "iopub.status.idle": "2023-10-30T16:52:22.626163Z",
     "shell.execute_reply": "2023-10-30T16:52:22.625184Z"
    },
    "papermill": {
     "duration": 0.020392,
     "end_time": "2023-10-30T16:52:22.628992",
     "exception": false,
     "start_time": "2023-10-30T16:52:22.608600",
     "status": "completed"
    },
    "tags": []
   },
   "outputs": [],
   "source": [
    "\n",
    "def clean_text(text):\n",
    "    # Remove special characters and punctuation\n",
    "    text = re.sub(r'[^A-Za-z0-9\\s]', '', str(text))\n",
    "    \n",
    "    # Convert to lowercase\n",
    "    text = text.lower()\n",
    "    \n",
    "    # Remove extra whitespace\n",
    "    text = re.sub(r'\\s+', ' ', text).strip()\n",
    "    \n",
    "    return text\n",
    "\n"
   ]
  },
  {
   "cell_type": "code",
   "execution_count": 25,
   "id": "c7af2184",
   "metadata": {
    "execution": {
     "iopub.execute_input": "2023-10-30T16:52:22.651570Z",
     "iopub.status.busy": "2023-10-30T16:52:22.651210Z",
     "iopub.status.idle": "2023-10-30T16:52:23.312880Z",
     "shell.execute_reply": "2023-10-30T16:52:23.311701Z"
    },
    "papermill": {
     "duration": 0.675328,
     "end_time": "2023-10-30T16:52:23.315114",
     "exception": false,
     "start_time": "2023-10-30T16:52:22.639786",
     "status": "completed"
    },
    "tags": []
   },
   "outputs": [],
   "source": [
    "df['Preprocessed Text'] = df['Text'].apply(clean_text) \n"
   ]
  },
  {
   "cell_type": "code",
   "execution_count": 26,
   "id": "66bbc2e6",
   "metadata": {
    "execution": {
     "iopub.execute_input": "2023-10-30T16:52:23.337572Z",
     "iopub.status.busy": "2023-10-30T16:52:23.336583Z",
     "iopub.status.idle": "2023-10-30T16:52:23.346733Z",
     "shell.execute_reply": "2023-10-30T16:52:23.345821Z"
    },
    "papermill": {
     "duration": 0.023256,
     "end_time": "2023-10-30T16:52:23.348652",
     "exception": false,
     "start_time": "2023-10-30T16:52:23.325396",
     "status": "completed"
    },
    "tags": []
   },
   "outputs": [
    {
     "data": {
      "text/html": [
       "<div>\n",
       "<style scoped>\n",
       "    .dataframe tbody tr th:only-of-type {\n",
       "        vertical-align: middle;\n",
       "    }\n",
       "\n",
       "    .dataframe tbody tr th {\n",
       "        vertical-align: top;\n",
       "    }\n",
       "\n",
       "    .dataframe thead th {\n",
       "        text-align: right;\n",
       "    }\n",
       "</style>\n",
       "<table border=\"1\" class=\"dataframe\">\n",
       "  <thead>\n",
       "    <tr style=\"text-align: right;\">\n",
       "      <th></th>\n",
       "      <th>id</th>\n",
       "      <th>country</th>\n",
       "      <th>Label</th>\n",
       "      <th>Text</th>\n",
       "      <th>Preprocessed Text</th>\n",
       "    </tr>\n",
       "  </thead>\n",
       "  <tbody>\n",
       "    <tr>\n",
       "      <th>0</th>\n",
       "      <td>2401</td>\n",
       "      <td>Borderlands</td>\n",
       "      <td>Positive</td>\n",
       "      <td>im getting on borderlands and i will murder yo...</td>\n",
       "      <td>im getting on borderlands and i will murder yo...</td>\n",
       "    </tr>\n",
       "    <tr>\n",
       "      <th>1</th>\n",
       "      <td>2401</td>\n",
       "      <td>Borderlands</td>\n",
       "      <td>Positive</td>\n",
       "      <td>I am coming to the borders and I will kill you...</td>\n",
       "      <td>i am coming to the borders and i will kill you...</td>\n",
       "    </tr>\n",
       "    <tr>\n",
       "      <th>2</th>\n",
       "      <td>2401</td>\n",
       "      <td>Borderlands</td>\n",
       "      <td>Positive</td>\n",
       "      <td>im getting on borderlands and i will kill you ...</td>\n",
       "      <td>im getting on borderlands and i will kill you all</td>\n",
       "    </tr>\n",
       "    <tr>\n",
       "      <th>3</th>\n",
       "      <td>2401</td>\n",
       "      <td>Borderlands</td>\n",
       "      <td>Positive</td>\n",
       "      <td>im coming on borderlands and i will murder you...</td>\n",
       "      <td>im coming on borderlands and i will murder you...</td>\n",
       "    </tr>\n",
       "    <tr>\n",
       "      <th>4</th>\n",
       "      <td>2401</td>\n",
       "      <td>Borderlands</td>\n",
       "      <td>Positive</td>\n",
       "      <td>im getting on borderlands 2 and i will murder ...</td>\n",
       "      <td>im getting on borderlands 2 and i will murder ...</td>\n",
       "    </tr>\n",
       "  </tbody>\n",
       "</table>\n",
       "</div>"
      ],
      "text/plain": [
       "     id      country     Label  \\\n",
       "0  2401  Borderlands  Positive   \n",
       "1  2401  Borderlands  Positive   \n",
       "2  2401  Borderlands  Positive   \n",
       "3  2401  Borderlands  Positive   \n",
       "4  2401  Borderlands  Positive   \n",
       "\n",
       "                                                Text  \\\n",
       "0  im getting on borderlands and i will murder yo...   \n",
       "1  I am coming to the borders and I will kill you...   \n",
       "2  im getting on borderlands and i will kill you ...   \n",
       "3  im coming on borderlands and i will murder you...   \n",
       "4  im getting on borderlands 2 and i will murder ...   \n",
       "\n",
       "                                   Preprocessed Text  \n",
       "0  im getting on borderlands and i will murder yo...  \n",
       "1  i am coming to the borders and i will kill you...  \n",
       "2  im getting on borderlands and i will kill you all  \n",
       "3  im coming on borderlands and i will murder you...  \n",
       "4  im getting on borderlands 2 and i will murder ...  "
      ]
     },
     "execution_count": 26,
     "metadata": {},
     "output_type": "execute_result"
    }
   ],
   "source": [
    "df.head()"
   ]
  },
  {
   "cell_type": "code",
   "execution_count": 27,
   "id": "c254691f",
   "metadata": {
    "execution": {
     "iopub.execute_input": "2023-10-30T16:52:23.372266Z",
     "iopub.status.busy": "2023-10-30T16:52:23.371893Z",
     "iopub.status.idle": "2023-10-30T16:52:23.420952Z",
     "shell.execute_reply": "2023-10-30T16:52:23.418968Z"
    },
    "papermill": {
     "duration": 0.064041,
     "end_time": "2023-10-30T16:52:23.423093",
     "exception": false,
     "start_time": "2023-10-30T16:52:23.359052",
     "status": "completed"
    },
    "tags": []
   },
   "outputs": [
    {
     "name": "stdout",
     "output_type": "stream",
     "text": [
      "<class 'pandas.core.frame.DataFrame'>\n",
      "RangeIndex: 74682 entries, 0 to 74681\n",
      "Data columns (total 5 columns):\n",
      " #   Column             Non-Null Count  Dtype \n",
      "---  ------             --------------  ----- \n",
      " 0   id                 74682 non-null  int64 \n",
      " 1   country            74682 non-null  object\n",
      " 2   Label              74682 non-null  object\n",
      " 3   Text               73996 non-null  object\n",
      " 4   Preprocessed Text  74682 non-null  object\n",
      "dtypes: int64(1), object(4)\n",
      "memory usage: 2.8+ MB\n"
     ]
    }
   ],
   "source": [
    "df.info()"
   ]
  },
  {
   "cell_type": "code",
   "execution_count": 28,
   "id": "77d1f9ee",
   "metadata": {
    "execution": {
     "iopub.execute_input": "2023-10-30T16:52:23.446178Z",
     "iopub.status.busy": "2023-10-30T16:52:23.445803Z",
     "iopub.status.idle": "2023-10-30T16:52:23.452488Z",
     "shell.execute_reply": "2023-10-30T16:52:23.450868Z"
    },
    "papermill": {
     "duration": 0.021358,
     "end_time": "2023-10-30T16:52:23.454713",
     "exception": false,
     "start_time": "2023-10-30T16:52:23.433355",
     "status": "completed"
    },
    "tags": []
   },
   "outputs": [],
   "source": [
    "X_train=list(df['Preprocessed Text'][:1000])"
   ]
  },
  {
   "cell_type": "code",
   "execution_count": 29,
   "id": "12ec7eb3",
   "metadata": {
    "execution": {
     "iopub.execute_input": "2023-10-30T16:52:23.477959Z",
     "iopub.status.busy": "2023-10-30T16:52:23.477577Z",
     "iopub.status.idle": "2023-10-30T16:52:23.596380Z",
     "shell.execute_reply": "2023-10-30T16:52:23.594660Z"
    },
    "papermill": {
     "duration": 0.134034,
     "end_time": "2023-10-30T16:52:23.599128",
     "exception": false,
     "start_time": "2023-10-30T16:52:23.465094",
     "status": "completed"
    },
    "tags": []
   },
   "outputs": [],
   "source": [
    "batch=tokenizer(X_train,padding=True,truncation=True,max_length=512,return_tensors='pt')\n",
    "#batch"
   ]
  },
  {
   "cell_type": "code",
   "execution_count": 30,
   "id": "9da8fc97",
   "metadata": {
    "execution": {
     "iopub.execute_input": "2023-10-30T16:52:23.621716Z",
     "iopub.status.busy": "2023-10-30T16:52:23.621341Z",
     "iopub.status.idle": "2023-10-30T16:53:16.890516Z",
     "shell.execute_reply": "2023-10-30T16:53:16.889344Z"
    },
    "papermill": {
     "duration": 53.283196,
     "end_time": "2023-10-30T16:53:16.892972",
     "exception": false,
     "start_time": "2023-10-30T16:52:23.609776",
     "status": "completed"
    },
    "tags": []
   },
   "outputs": [],
   "source": [
    "with torch.no_grad():\n",
    "    outputs=model(**batch)\n",
    "    #print(outputs)\n",
    "    predictions=F.softmax(outputs.logits, dim=1)\n",
    "    #print(predictions)\n",
    "    labels=torch.argmax(predictions,dim=1)\n",
    "    #print(labels)\n",
    "    labels=[model.config.id2label[label_id] for label_id in labels.tolist()]\n",
    "    #print(labels)"
   ]
  },
  {
   "cell_type": "code",
   "execution_count": null,
   "id": "dc032d8b",
   "metadata": {
    "papermill": {
     "duration": 0.012796,
     "end_time": "2023-10-30T16:53:16.917096",
     "exception": false,
     "start_time": "2023-10-30T16:53:16.904300",
     "status": "completed"
    },
    "tags": []
   },
   "outputs": [],
   "source": []
  },
  {
   "cell_type": "code",
   "execution_count": 31,
   "id": "885403b5",
   "metadata": {
    "execution": {
     "iopub.execute_input": "2023-10-30T16:53:16.945146Z",
     "iopub.status.busy": "2023-10-30T16:53:16.944058Z",
     "iopub.status.idle": "2023-10-30T16:53:16.950510Z",
     "shell.execute_reply": "2023-10-30T16:53:16.949353Z"
    },
    "papermill": {
     "duration": 0.024156,
     "end_time": "2023-10-30T16:53:16.953059",
     "exception": false,
     "start_time": "2023-10-30T16:53:16.928903",
     "status": "completed"
    },
    "tags": []
   },
   "outputs": [
    {
     "data": {
      "text/plain": [
       "1000"
      ]
     },
     "execution_count": 31,
     "metadata": {},
     "output_type": "execute_result"
    }
   ],
   "source": [
    "len(labels)"
   ]
  },
  {
   "cell_type": "code",
   "execution_count": 32,
   "id": "c21a1519",
   "metadata": {
    "execution": {
     "iopub.execute_input": "2023-10-30T16:53:16.982173Z",
     "iopub.status.busy": "2023-10-30T16:53:16.981645Z",
     "iopub.status.idle": "2023-10-30T16:53:16.986807Z",
     "shell.execute_reply": "2023-10-30T16:53:16.985127Z"
    },
    "papermill": {
     "duration": 0.02053,
     "end_time": "2023-10-30T16:53:16.989016",
     "exception": false,
     "start_time": "2023-10-30T16:53:16.968486",
     "status": "completed"
    },
    "tags": []
   },
   "outputs": [],
   "source": [
    "new_df=df[:1000]"
   ]
  },
  {
   "cell_type": "code",
   "execution_count": 33,
   "id": "289d0061",
   "metadata": {
    "execution": {
     "iopub.execute_input": "2023-10-30T16:53:17.020710Z",
     "iopub.status.busy": "2023-10-30T16:53:17.019991Z",
     "iopub.status.idle": "2023-10-30T16:53:17.025907Z",
     "shell.execute_reply": "2023-10-30T16:53:17.024869Z"
    },
    "papermill": {
     "duration": 0.026861,
     "end_time": "2023-10-30T16:53:17.028157",
     "exception": false,
     "start_time": "2023-10-30T16:53:17.001296",
     "status": "completed"
    },
    "tags": []
   },
   "outputs": [
    {
     "name": "stderr",
     "output_type": "stream",
     "text": [
      "/tmp/ipykernel_21/728350726.py:1: SettingWithCopyWarning: \n",
      "A value is trying to be set on a copy of a slice from a DataFrame.\n",
      "Try using .loc[row_indexer,col_indexer] = value instead\n",
      "\n",
      "See the caveats in the documentation: https://pandas.pydata.org/pandas-docs/stable/user_guide/indexing.html#returning-a-view-versus-a-copy\n",
      "  new_df['Label1']=labels\n"
     ]
    }
   ],
   "source": [
    "new_df['Label1']=labels"
   ]
  },
  {
   "cell_type": "code",
   "execution_count": 34,
   "id": "7d4db375",
   "metadata": {
    "execution": {
     "iopub.execute_input": "2023-10-30T16:53:17.055723Z",
     "iopub.status.busy": "2023-10-30T16:53:17.055174Z",
     "iopub.status.idle": "2023-10-30T16:53:17.069157Z",
     "shell.execute_reply": "2023-10-30T16:53:17.068376Z"
    },
    "papermill": {
     "duration": 0.029911,
     "end_time": "2023-10-30T16:53:17.071024",
     "exception": false,
     "start_time": "2023-10-30T16:53:17.041113",
     "status": "completed"
    },
    "tags": []
   },
   "outputs": [
    {
     "data": {
      "text/html": [
       "<div>\n",
       "<style scoped>\n",
       "    .dataframe tbody tr th:only-of-type {\n",
       "        vertical-align: middle;\n",
       "    }\n",
       "\n",
       "    .dataframe tbody tr th {\n",
       "        vertical-align: top;\n",
       "    }\n",
       "\n",
       "    .dataframe thead th {\n",
       "        text-align: right;\n",
       "    }\n",
       "</style>\n",
       "<table border=\"1\" class=\"dataframe\">\n",
       "  <thead>\n",
       "    <tr style=\"text-align: right;\">\n",
       "      <th></th>\n",
       "      <th>id</th>\n",
       "      <th>country</th>\n",
       "      <th>Label</th>\n",
       "      <th>Text</th>\n",
       "      <th>Preprocessed Text</th>\n",
       "      <th>Label1</th>\n",
       "    </tr>\n",
       "  </thead>\n",
       "  <tbody>\n",
       "    <tr>\n",
       "      <th>0</th>\n",
       "      <td>2401</td>\n",
       "      <td>Borderlands</td>\n",
       "      <td>Positive</td>\n",
       "      <td>im getting on borderlands and i will murder yo...</td>\n",
       "      <td>im getting on borderlands and i will murder yo...</td>\n",
       "      <td>NEGATIVE</td>\n",
       "    </tr>\n",
       "    <tr>\n",
       "      <th>1</th>\n",
       "      <td>2401</td>\n",
       "      <td>Borderlands</td>\n",
       "      <td>Positive</td>\n",
       "      <td>I am coming to the borders and I will kill you...</td>\n",
       "      <td>i am coming to the borders and i will kill you...</td>\n",
       "      <td>POSITIVE</td>\n",
       "    </tr>\n",
       "    <tr>\n",
       "      <th>2</th>\n",
       "      <td>2401</td>\n",
       "      <td>Borderlands</td>\n",
       "      <td>Positive</td>\n",
       "      <td>im getting on borderlands and i will kill you ...</td>\n",
       "      <td>im getting on borderlands and i will kill you all</td>\n",
       "      <td>POSITIVE</td>\n",
       "    </tr>\n",
       "    <tr>\n",
       "      <th>3</th>\n",
       "      <td>2401</td>\n",
       "      <td>Borderlands</td>\n",
       "      <td>Positive</td>\n",
       "      <td>im coming on borderlands and i will murder you...</td>\n",
       "      <td>im coming on borderlands and i will murder you...</td>\n",
       "      <td>NEGATIVE</td>\n",
       "    </tr>\n",
       "    <tr>\n",
       "      <th>4</th>\n",
       "      <td>2401</td>\n",
       "      <td>Borderlands</td>\n",
       "      <td>Positive</td>\n",
       "      <td>im getting on borderlands 2 and i will murder ...</td>\n",
       "      <td>im getting on borderlands 2 and i will murder ...</td>\n",
       "      <td>NEGATIVE</td>\n",
       "    </tr>\n",
       "  </tbody>\n",
       "</table>\n",
       "</div>"
      ],
      "text/plain": [
       "     id      country     Label  \\\n",
       "0  2401  Borderlands  Positive   \n",
       "1  2401  Borderlands  Positive   \n",
       "2  2401  Borderlands  Positive   \n",
       "3  2401  Borderlands  Positive   \n",
       "4  2401  Borderlands  Positive   \n",
       "\n",
       "                                                Text  \\\n",
       "0  im getting on borderlands and i will murder yo...   \n",
       "1  I am coming to the borders and I will kill you...   \n",
       "2  im getting on borderlands and i will kill you ...   \n",
       "3  im coming on borderlands and i will murder you...   \n",
       "4  im getting on borderlands 2 and i will murder ...   \n",
       "\n",
       "                                   Preprocessed Text    Label1  \n",
       "0  im getting on borderlands and i will murder yo...  NEGATIVE  \n",
       "1  i am coming to the borders and i will kill you...  POSITIVE  \n",
       "2  im getting on borderlands and i will kill you all  POSITIVE  \n",
       "3  im coming on borderlands and i will murder you...  NEGATIVE  \n",
       "4  im getting on borderlands 2 and i will murder ...  NEGATIVE  "
      ]
     },
     "execution_count": 34,
     "metadata": {},
     "output_type": "execute_result"
    }
   ],
   "source": [
    "new_df.head()"
   ]
  },
  {
   "cell_type": "code",
   "execution_count": 35,
   "id": "0e2ba2fc",
   "metadata": {
    "execution": {
     "iopub.execute_input": "2023-10-30T16:53:17.097114Z",
     "iopub.status.busy": "2023-10-30T16:53:17.096055Z",
     "iopub.status.idle": "2023-10-30T16:53:17.104557Z",
     "shell.execute_reply": "2023-10-30T16:53:17.103767Z"
    },
    "papermill": {
     "duration": 0.023633,
     "end_time": "2023-10-30T16:53:17.106390",
     "exception": false,
     "start_time": "2023-10-30T16:53:17.082757",
     "status": "completed"
    },
    "tags": []
   },
   "outputs": [
    {
     "data": {
      "text/plain": [
       "Label\n",
       "Positive      424\n",
       "Neutral       282\n",
       "Negative      192\n",
       "Irrelevant    102\n",
       "Name: count, dtype: int64"
      ]
     },
     "execution_count": 35,
     "metadata": {},
     "output_type": "execute_result"
    }
   ],
   "source": [
    "new_df['Label'].value_counts()"
   ]
  },
  {
   "cell_type": "code",
   "execution_count": 36,
   "id": "0c4f8da5",
   "metadata": {
    "execution": {
     "iopub.execute_input": "2023-10-30T16:53:17.131486Z",
     "iopub.status.busy": "2023-10-30T16:53:17.130768Z",
     "iopub.status.idle": "2023-10-30T16:53:17.138367Z",
     "shell.execute_reply": "2023-10-30T16:53:17.137537Z"
    },
    "papermill": {
     "duration": 0.022778,
     "end_time": "2023-10-30T16:53:17.140290",
     "exception": false,
     "start_time": "2023-10-30T16:53:17.117512",
     "status": "completed"
    },
    "tags": []
   },
   "outputs": [
    {
     "data": {
      "text/plain": [
       "Label1\n",
       "NEGATIVE    526\n",
       "POSITIVE    474\n",
       "Name: count, dtype: int64"
      ]
     },
     "execution_count": 36,
     "metadata": {},
     "output_type": "execute_result"
    }
   ],
   "source": [
    "new_df['Label1'].value_counts()"
   ]
  },
  {
   "cell_type": "code",
   "execution_count": null,
   "id": "8d70c786",
   "metadata": {
    "papermill": {
     "duration": 0.011946,
     "end_time": "2023-10-30T16:53:17.164118",
     "exception": false,
     "start_time": "2023-10-30T16:53:17.152172",
     "status": "completed"
    },
    "tags": []
   },
   "outputs": [],
   "source": []
  }
 ],
 "metadata": {
  "kernelspec": {
   "display_name": "Python 3",
   "language": "python",
   "name": "python3"
  },
  "language_info": {
   "codemirror_mode": {
    "name": "ipython",
    "version": 3
   },
   "file_extension": ".py",
   "mimetype": "text/x-python",
   "name": "python",
   "nbconvert_exporter": "python",
   "pygments_lexer": "ipython3",
   "version": "3.10.12"
  },
  "papermill": {
   "default_parameters": {},
   "duration": 88.249332,
   "end_time": "2023-10-30T16:53:20.019713",
   "environment_variables": {},
   "exception": null,
   "input_path": "__notebook__.ipynb",
   "output_path": "__notebook__.ipynb",
   "parameters": {},
   "start_time": "2023-10-30T16:51:51.770381",
   "version": "2.4.0"
  },
  "widgets": {
   "application/vnd.jupyter.widget-state+json": {
    "state": {
     "0a8ffaa0f6c94376baca3b3cf865e6dd": {
      "model_module": "@jupyter-widgets/controls",
      "model_module_version": "1.5.0",
      "model_name": "HTMLModel",
      "state": {
       "_dom_classes": [],
       "_model_module": "@jupyter-widgets/controls",
       "_model_module_version": "1.5.0",
       "_model_name": "HTMLModel",
       "_view_count": null,
       "_view_module": "@jupyter-widgets/controls",
       "_view_module_version": "1.5.0",
       "_view_name": "HTMLView",
       "description": "",
       "description_tooltip": null,
       "layout": "IPY_MODEL_4592f438955d437fa038b8e0ae53bcf8",
       "placeholder": "​",
       "style": "IPY_MODEL_5bbccde6ae034f52bc59a9f0518e44fb",
       "value": " 48.0/48.0 [00:00&lt;00:00, 3.77kB/s]"
      }
     },
     "0ad9a9d8b8de44579d47be8b5d7b7611": {
      "model_module": "@jupyter-widgets/controls",
      "model_module_version": "1.5.0",
      "model_name": "HBoxModel",
      "state": {
       "_dom_classes": [],
       "_model_module": "@jupyter-widgets/controls",
       "_model_module_version": "1.5.0",
       "_model_name": "HBoxModel",
       "_view_count": null,
       "_view_module": "@jupyter-widgets/controls",
       "_view_module_version": "1.5.0",
       "_view_name": "HBoxView",
       "box_style": "",
       "children": [
        "IPY_MODEL_7f2569ce2b55410980a50c618f503cc0",
        "IPY_MODEL_67684e7e40f24d15aaba0a05ab8dc2a2",
        "IPY_MODEL_d252edbc7e0e40bc80a391ad8f0c95c7"
       ],
       "layout": "IPY_MODEL_9a6bf997fa734f0585025f579ffcaa49"
      }
     },
     "0cd4a969c12847f794a73a9d70c0ed61": {
      "model_module": "@jupyter-widgets/controls",
      "model_module_version": "1.5.0",
      "model_name": "ProgressStyleModel",
      "state": {
       "_model_module": "@jupyter-widgets/controls",
       "_model_module_version": "1.5.0",
       "_model_name": "ProgressStyleModel",
       "_view_count": null,
       "_view_module": "@jupyter-widgets/base",
       "_view_module_version": "1.2.0",
       "_view_name": "StyleView",
       "bar_color": null,
       "description_width": ""
      }
     },
     "0db8ddd1068247eba33d91ef55896c83": {
      "model_module": "@jupyter-widgets/controls",
      "model_module_version": "1.5.0",
      "model_name": "DescriptionStyleModel",
      "state": {
       "_model_module": "@jupyter-widgets/controls",
       "_model_module_version": "1.5.0",
       "_model_name": "DescriptionStyleModel",
       "_view_count": null,
       "_view_module": "@jupyter-widgets/base",
       "_view_module_version": "1.2.0",
       "_view_name": "StyleView",
       "description_width": ""
      }
     },
     "138fc9dd0b2d4805be68591817da34bb": {
      "model_module": "@jupyter-widgets/base",
      "model_module_version": "1.2.0",
      "model_name": "LayoutModel",
      "state": {
       "_model_module": "@jupyter-widgets/base",
       "_model_module_version": "1.2.0",
       "_model_name": "LayoutModel",
       "_view_count": null,
       "_view_module": "@jupyter-widgets/base",
       "_view_module_version": "1.2.0",
       "_view_name": "LayoutView",
       "align_content": null,
       "align_items": null,
       "align_self": null,
       "border": null,
       "bottom": null,
       "display": null,
       "flex": null,
       "flex_flow": null,
       "grid_area": null,
       "grid_auto_columns": null,
       "grid_auto_flow": null,
       "grid_auto_rows": null,
       "grid_column": null,
       "grid_gap": null,
       "grid_row": null,
       "grid_template_areas": null,
       "grid_template_columns": null,
       "grid_template_rows": null,
       "height": null,
       "justify_content": null,
       "justify_items": null,
       "left": null,
       "margin": null,
       "max_height": null,
       "max_width": null,
       "min_height": null,
       "min_width": null,
       "object_fit": null,
       "object_position": null,
       "order": null,
       "overflow": null,
       "overflow_x": null,
       "overflow_y": null,
       "padding": null,
       "right": null,
       "top": null,
       "visibility": null,
       "width": null
      }
     },
     "160577cf23c048c69038d42bee7cfe0c": {
      "model_module": "@jupyter-widgets/controls",
      "model_module_version": "1.5.0",
      "model_name": "HTMLModel",
      "state": {
       "_dom_classes": [],
       "_model_module": "@jupyter-widgets/controls",
       "_model_module_version": "1.5.0",
       "_model_name": "HTMLModel",
       "_view_count": null,
       "_view_module": "@jupyter-widgets/controls",
       "_view_module_version": "1.5.0",
       "_view_name": "HTMLView",
       "description": "",
       "description_tooltip": null,
       "layout": "IPY_MODEL_f7f8c2bdfd564bcfbeb45b07eb6932a2",
       "placeholder": "​",
       "style": "IPY_MODEL_57c884b3d72b446da8d07afadb1c4e9a",
       "value": "Downloading model.safetensors: 100%"
      }
     },
     "1630a4b2c7454b0382e6ba9c8de9d22f": {
      "model_module": "@jupyter-widgets/base",
      "model_module_version": "1.2.0",
      "model_name": "LayoutModel",
      "state": {
       "_model_module": "@jupyter-widgets/base",
       "_model_module_version": "1.2.0",
       "_model_name": "LayoutModel",
       "_view_count": null,
       "_view_module": "@jupyter-widgets/base",
       "_view_module_version": "1.2.0",
       "_view_name": "LayoutView",
       "align_content": null,
       "align_items": null,
       "align_self": null,
       "border": null,
       "bottom": null,
       "display": null,
       "flex": null,
       "flex_flow": null,
       "grid_area": null,
       "grid_auto_columns": null,
       "grid_auto_flow": null,
       "grid_auto_rows": null,
       "grid_column": null,
       "grid_gap": null,
       "grid_row": null,
       "grid_template_areas": null,
       "grid_template_columns": null,
       "grid_template_rows": null,
       "height": null,
       "justify_content": null,
       "justify_items": null,
       "left": null,
       "margin": null,
       "max_height": null,
       "max_width": null,
       "min_height": null,
       "min_width": null,
       "object_fit": null,
       "object_position": null,
       "order": null,
       "overflow": null,
       "overflow_x": null,
       "overflow_y": null,
       "padding": null,
       "right": null,
       "top": null,
       "visibility": null,
       "width": null
      }
     },
     "2286cb3ac9c347879b7ca7266eef9c73": {
      "model_module": "@jupyter-widgets/base",
      "model_module_version": "1.2.0",
      "model_name": "LayoutModel",
      "state": {
       "_model_module": "@jupyter-widgets/base",
       "_model_module_version": "1.2.0",
       "_model_name": "LayoutModel",
       "_view_count": null,
       "_view_module": "@jupyter-widgets/base",
       "_view_module_version": "1.2.0",
       "_view_name": "LayoutView",
       "align_content": null,
       "align_items": null,
       "align_self": null,
       "border": null,
       "bottom": null,
       "display": null,
       "flex": null,
       "flex_flow": null,
       "grid_area": null,
       "grid_auto_columns": null,
       "grid_auto_flow": null,
       "grid_auto_rows": null,
       "grid_column": null,
       "grid_gap": null,
       "grid_row": null,
       "grid_template_areas": null,
       "grid_template_columns": null,
       "grid_template_rows": null,
       "height": null,
       "justify_content": null,
       "justify_items": null,
       "left": null,
       "margin": null,
       "max_height": null,
       "max_width": null,
       "min_height": null,
       "min_width": null,
       "object_fit": null,
       "object_position": null,
       "order": null,
       "overflow": null,
       "overflow_x": null,
       "overflow_y": null,
       "padding": null,
       "right": null,
       "top": null,
       "visibility": null,
       "width": null
      }
     },
     "28d1d93e29ce4a44a6b46327ef8c098b": {
      "model_module": "@jupyter-widgets/base",
      "model_module_version": "1.2.0",
      "model_name": "LayoutModel",
      "state": {
       "_model_module": "@jupyter-widgets/base",
       "_model_module_version": "1.2.0",
       "_model_name": "LayoutModel",
       "_view_count": null,
       "_view_module": "@jupyter-widgets/base",
       "_view_module_version": "1.2.0",
       "_view_name": "LayoutView",
       "align_content": null,
       "align_items": null,
       "align_self": null,
       "border": null,
       "bottom": null,
       "display": null,
       "flex": null,
       "flex_flow": null,
       "grid_area": null,
       "grid_auto_columns": null,
       "grid_auto_flow": null,
       "grid_auto_rows": null,
       "grid_column": null,
       "grid_gap": null,
       "grid_row": null,
       "grid_template_areas": null,
       "grid_template_columns": null,
       "grid_template_rows": null,
       "height": null,
       "justify_content": null,
       "justify_items": null,
       "left": null,
       "margin": null,
       "max_height": null,
       "max_width": null,
       "min_height": null,
       "min_width": null,
       "object_fit": null,
       "object_position": null,
       "order": null,
       "overflow": null,
       "overflow_x": null,
       "overflow_y": null,
       "padding": null,
       "right": null,
       "top": null,
       "visibility": null,
       "width": null
      }
     },
     "2c8b0aeb163b4bce9e2b2d3ff1c913fa": {
      "model_module": "@jupyter-widgets/controls",
      "model_module_version": "1.5.0",
      "model_name": "HTMLModel",
      "state": {
       "_dom_classes": [],
       "_model_module": "@jupyter-widgets/controls",
       "_model_module_version": "1.5.0",
       "_model_name": "HTMLModel",
       "_view_count": null,
       "_view_module": "@jupyter-widgets/controls",
       "_view_module_version": "1.5.0",
       "_view_name": "HTMLView",
       "description": "",
       "description_tooltip": null,
       "layout": "IPY_MODEL_28d1d93e29ce4a44a6b46327ef8c098b",
       "placeholder": "​",
       "style": "IPY_MODEL_9b26cdb972424c6bafe5e84f8bcd2b57",
       "value": "Downloading (…)okenizer_config.json: 100%"
      }
     },
     "33b778290f0c4d7e97a34bfc2f6d969f": {
      "model_module": "@jupyter-widgets/controls",
      "model_module_version": "1.5.0",
      "model_name": "HBoxModel",
      "state": {
       "_dom_classes": [],
       "_model_module": "@jupyter-widgets/controls",
       "_model_module_version": "1.5.0",
       "_model_name": "HBoxModel",
       "_view_count": null,
       "_view_module": "@jupyter-widgets/controls",
       "_view_module_version": "1.5.0",
       "_view_name": "HBoxView",
       "box_style": "",
       "children": [
        "IPY_MODEL_160577cf23c048c69038d42bee7cfe0c",
        "IPY_MODEL_833a9160b66a45ab83fe5cbde6ae2e90",
        "IPY_MODEL_8ff6d4ab8a4144148bf5e8329ed07d9f"
       ],
       "layout": "IPY_MODEL_6cd4fe67178f4b16a9e3758e74d479d4"
      }
     },
     "34a4ac785b8f49e2911388aa3d8aebbf": {
      "model_module": "@jupyter-widgets/base",
      "model_module_version": "1.2.0",
      "model_name": "LayoutModel",
      "state": {
       "_model_module": "@jupyter-widgets/base",
       "_model_module_version": "1.2.0",
       "_model_name": "LayoutModel",
       "_view_count": null,
       "_view_module": "@jupyter-widgets/base",
       "_view_module_version": "1.2.0",
       "_view_name": "LayoutView",
       "align_content": null,
       "align_items": null,
       "align_self": null,
       "border": null,
       "bottom": null,
       "display": null,
       "flex": null,
       "flex_flow": null,
       "grid_area": null,
       "grid_auto_columns": null,
       "grid_auto_flow": null,
       "grid_auto_rows": null,
       "grid_column": null,
       "grid_gap": null,
       "grid_row": null,
       "grid_template_areas": null,
       "grid_template_columns": null,
       "grid_template_rows": null,
       "height": null,
       "justify_content": null,
       "justify_items": null,
       "left": null,
       "margin": null,
       "max_height": null,
       "max_width": null,
       "min_height": null,
       "min_width": null,
       "object_fit": null,
       "object_position": null,
       "order": null,
       "overflow": null,
       "overflow_x": null,
       "overflow_y": null,
       "padding": null,
       "right": null,
       "top": null,
       "visibility": null,
       "width": null
      }
     },
     "390762bc90d24b2ab6a1527ea8574f40": {
      "model_module": "@jupyter-widgets/base",
      "model_module_version": "1.2.0",
      "model_name": "LayoutModel",
      "state": {
       "_model_module": "@jupyter-widgets/base",
       "_model_module_version": "1.2.0",
       "_model_name": "LayoutModel",
       "_view_count": null,
       "_view_module": "@jupyter-widgets/base",
       "_view_module_version": "1.2.0",
       "_view_name": "LayoutView",
       "align_content": null,
       "align_items": null,
       "align_self": null,
       "border": null,
       "bottom": null,
       "display": null,
       "flex": null,
       "flex_flow": null,
       "grid_area": null,
       "grid_auto_columns": null,
       "grid_auto_flow": null,
       "grid_auto_rows": null,
       "grid_column": null,
       "grid_gap": null,
       "grid_row": null,
       "grid_template_areas": null,
       "grid_template_columns": null,
       "grid_template_rows": null,
       "height": null,
       "justify_content": null,
       "justify_items": null,
       "left": null,
       "margin": null,
       "max_height": null,
       "max_width": null,
       "min_height": null,
       "min_width": null,
       "object_fit": null,
       "object_position": null,
       "order": null,
       "overflow": null,
       "overflow_x": null,
       "overflow_y": null,
       "padding": null,
       "right": null,
       "top": null,
       "visibility": null,
       "width": null
      }
     },
     "4592f438955d437fa038b8e0ae53bcf8": {
      "model_module": "@jupyter-widgets/base",
      "model_module_version": "1.2.0",
      "model_name": "LayoutModel",
      "state": {
       "_model_module": "@jupyter-widgets/base",
       "_model_module_version": "1.2.0",
       "_model_name": "LayoutModel",
       "_view_count": null,
       "_view_module": "@jupyter-widgets/base",
       "_view_module_version": "1.2.0",
       "_view_name": "LayoutView",
       "align_content": null,
       "align_items": null,
       "align_self": null,
       "border": null,
       "bottom": null,
       "display": null,
       "flex": null,
       "flex_flow": null,
       "grid_area": null,
       "grid_auto_columns": null,
       "grid_auto_flow": null,
       "grid_auto_rows": null,
       "grid_column": null,
       "grid_gap": null,
       "grid_row": null,
       "grid_template_areas": null,
       "grid_template_columns": null,
       "grid_template_rows": null,
       "height": null,
       "justify_content": null,
       "justify_items": null,
       "left": null,
       "margin": null,
       "max_height": null,
       "max_width": null,
       "min_height": null,
       "min_width": null,
       "object_fit": null,
       "object_position": null,
       "order": null,
       "overflow": null,
       "overflow_x": null,
       "overflow_y": null,
       "padding": null,
       "right": null,
       "top": null,
       "visibility": null,
       "width": null
      }
     },
     "4cf9d011c22b4c5a9d7012d8635219a6": {
      "model_module": "@jupyter-widgets/base",
      "model_module_version": "1.2.0",
      "model_name": "LayoutModel",
      "state": {
       "_model_module": "@jupyter-widgets/base",
       "_model_module_version": "1.2.0",
       "_model_name": "LayoutModel",
       "_view_count": null,
       "_view_module": "@jupyter-widgets/base",
       "_view_module_version": "1.2.0",
       "_view_name": "LayoutView",
       "align_content": null,
       "align_items": null,
       "align_self": null,
       "border": null,
       "bottom": null,
       "display": null,
       "flex": null,
       "flex_flow": null,
       "grid_area": null,
       "grid_auto_columns": null,
       "grid_auto_flow": null,
       "grid_auto_rows": null,
       "grid_column": null,
       "grid_gap": null,
       "grid_row": null,
       "grid_template_areas": null,
       "grid_template_columns": null,
       "grid_template_rows": null,
       "height": null,
       "justify_content": null,
       "justify_items": null,
       "left": null,
       "margin": null,
       "max_height": null,
       "max_width": null,
       "min_height": null,
       "min_width": null,
       "object_fit": null,
       "object_position": null,
       "order": null,
       "overflow": null,
       "overflow_x": null,
       "overflow_y": null,
       "padding": null,
       "right": null,
       "top": null,
       "visibility": null,
       "width": null
      }
     },
     "57c884b3d72b446da8d07afadb1c4e9a": {
      "model_module": "@jupyter-widgets/controls",
      "model_module_version": "1.5.0",
      "model_name": "DescriptionStyleModel",
      "state": {
       "_model_module": "@jupyter-widgets/controls",
       "_model_module_version": "1.5.0",
       "_model_name": "DescriptionStyleModel",
       "_view_count": null,
       "_view_module": "@jupyter-widgets/base",
       "_view_module_version": "1.2.0",
       "_view_name": "StyleView",
       "description_width": ""
      }
     },
     "5a54aec9497a44e5b194866ed60b8014": {
      "model_module": "@jupyter-widgets/controls",
      "model_module_version": "1.5.0",
      "model_name": "DescriptionStyleModel",
      "state": {
       "_model_module": "@jupyter-widgets/controls",
       "_model_module_version": "1.5.0",
       "_model_name": "DescriptionStyleModel",
       "_view_count": null,
       "_view_module": "@jupyter-widgets/base",
       "_view_module_version": "1.2.0",
       "_view_name": "StyleView",
       "description_width": ""
      }
     },
     "5bbccde6ae034f52bc59a9f0518e44fb": {
      "model_module": "@jupyter-widgets/controls",
      "model_module_version": "1.5.0",
      "model_name": "DescriptionStyleModel",
      "state": {
       "_model_module": "@jupyter-widgets/controls",
       "_model_module_version": "1.5.0",
       "_model_name": "DescriptionStyleModel",
       "_view_count": null,
       "_view_module": "@jupyter-widgets/base",
       "_view_module_version": "1.2.0",
       "_view_name": "StyleView",
       "description_width": ""
      }
     },
     "60ebcb431f8248fdb57e9732b90dca9e": {
      "model_module": "@jupyter-widgets/controls",
      "model_module_version": "1.5.0",
      "model_name": "DescriptionStyleModel",
      "state": {
       "_model_module": "@jupyter-widgets/controls",
       "_model_module_version": "1.5.0",
       "_model_name": "DescriptionStyleModel",
       "_view_count": null,
       "_view_module": "@jupyter-widgets/base",
       "_view_module_version": "1.2.0",
       "_view_name": "StyleView",
       "description_width": ""
      }
     },
     "67684e7e40f24d15aaba0a05ab8dc2a2": {
      "model_module": "@jupyter-widgets/controls",
      "model_module_version": "1.5.0",
      "model_name": "FloatProgressModel",
      "state": {
       "_dom_classes": [],
       "_model_module": "@jupyter-widgets/controls",
       "_model_module_version": "1.5.0",
       "_model_name": "FloatProgressModel",
       "_view_count": null,
       "_view_module": "@jupyter-widgets/controls",
       "_view_module_version": "1.5.0",
       "_view_name": "ProgressView",
       "bar_style": "success",
       "description": "",
       "description_tooltip": null,
       "layout": "IPY_MODEL_34a4ac785b8f49e2911388aa3d8aebbf",
       "max": 231508.0,
       "min": 0.0,
       "orientation": "horizontal",
       "style": "IPY_MODEL_0cd4a969c12847f794a73a9d70c0ed61",
       "value": 231508.0
      }
     },
     "6c8bf7e0d92d43528dfcbba67af9a18f": {
      "model_module": "@jupyter-widgets/base",
      "model_module_version": "1.2.0",
      "model_name": "LayoutModel",
      "state": {
       "_model_module": "@jupyter-widgets/base",
       "_model_module_version": "1.2.0",
       "_model_name": "LayoutModel",
       "_view_count": null,
       "_view_module": "@jupyter-widgets/base",
       "_view_module_version": "1.2.0",
       "_view_name": "LayoutView",
       "align_content": null,
       "align_items": null,
       "align_self": null,
       "border": null,
       "bottom": null,
       "display": null,
       "flex": null,
       "flex_flow": null,
       "grid_area": null,
       "grid_auto_columns": null,
       "grid_auto_flow": null,
       "grid_auto_rows": null,
       "grid_column": null,
       "grid_gap": null,
       "grid_row": null,
       "grid_template_areas": null,
       "grid_template_columns": null,
       "grid_template_rows": null,
       "height": null,
       "justify_content": null,
       "justify_items": null,
       "left": null,
       "margin": null,
       "max_height": null,
       "max_width": null,
       "min_height": null,
       "min_width": null,
       "object_fit": null,
       "object_position": null,
       "order": null,
       "overflow": null,
       "overflow_x": null,
       "overflow_y": null,
       "padding": null,
       "right": null,
       "top": null,
       "visibility": null,
       "width": null
      }
     },
     "6cd4fe67178f4b16a9e3758e74d479d4": {
      "model_module": "@jupyter-widgets/base",
      "model_module_version": "1.2.0",
      "model_name": "LayoutModel",
      "state": {
       "_model_module": "@jupyter-widgets/base",
       "_model_module_version": "1.2.0",
       "_model_name": "LayoutModel",
       "_view_count": null,
       "_view_module": "@jupyter-widgets/base",
       "_view_module_version": "1.2.0",
       "_view_name": "LayoutView",
       "align_content": null,
       "align_items": null,
       "align_self": null,
       "border": null,
       "bottom": null,
       "display": null,
       "flex": null,
       "flex_flow": null,
       "grid_area": null,
       "grid_auto_columns": null,
       "grid_auto_flow": null,
       "grid_auto_rows": null,
       "grid_column": null,
       "grid_gap": null,
       "grid_row": null,
       "grid_template_areas": null,
       "grid_template_columns": null,
       "grid_template_rows": null,
       "height": null,
       "justify_content": null,
       "justify_items": null,
       "left": null,
       "margin": null,
       "max_height": null,
       "max_width": null,
       "min_height": null,
       "min_width": null,
       "object_fit": null,
       "object_position": null,
       "order": null,
       "overflow": null,
       "overflow_x": null,
       "overflow_y": null,
       "padding": null,
       "right": null,
       "top": null,
       "visibility": null,
       "width": null
      }
     },
     "7921a78dddf04e7181a079ebc787ff91": {
      "model_module": "@jupyter-widgets/controls",
      "model_module_version": "1.5.0",
      "model_name": "HTMLModel",
      "state": {
       "_dom_classes": [],
       "_model_module": "@jupyter-widgets/controls",
       "_model_module_version": "1.5.0",
       "_model_name": "HTMLModel",
       "_view_count": null,
       "_view_module": "@jupyter-widgets/controls",
       "_view_module_version": "1.5.0",
       "_view_name": "HTMLView",
       "description": "",
       "description_tooltip": null,
       "layout": "IPY_MODEL_138fc9dd0b2d4805be68591817da34bb",
       "placeholder": "​",
       "style": "IPY_MODEL_0db8ddd1068247eba33d91ef55896c83",
       "value": " 629/629 [00:00&lt;00:00, 56.7kB/s]"
      }
     },
     "7b31c619e9c349919fa9dc6ab4dede68": {
      "model_module": "@jupyter-widgets/base",
      "model_module_version": "1.2.0",
      "model_name": "LayoutModel",
      "state": {
       "_model_module": "@jupyter-widgets/base",
       "_model_module_version": "1.2.0",
       "_model_name": "LayoutModel",
       "_view_count": null,
       "_view_module": "@jupyter-widgets/base",
       "_view_module_version": "1.2.0",
       "_view_name": "LayoutView",
       "align_content": null,
       "align_items": null,
       "align_self": null,
       "border": null,
       "bottom": null,
       "display": null,
       "flex": null,
       "flex_flow": null,
       "grid_area": null,
       "grid_auto_columns": null,
       "grid_auto_flow": null,
       "grid_auto_rows": null,
       "grid_column": null,
       "grid_gap": null,
       "grid_row": null,
       "grid_template_areas": null,
       "grid_template_columns": null,
       "grid_template_rows": null,
       "height": null,
       "justify_content": null,
       "justify_items": null,
       "left": null,
       "margin": null,
       "max_height": null,
       "max_width": null,
       "min_height": null,
       "min_width": null,
       "object_fit": null,
       "object_position": null,
       "order": null,
       "overflow": null,
       "overflow_x": null,
       "overflow_y": null,
       "padding": null,
       "right": null,
       "top": null,
       "visibility": null,
       "width": null
      }
     },
     "7e75d3c13b7447df9007c23908967b7f": {
      "model_module": "@jupyter-widgets/base",
      "model_module_version": "1.2.0",
      "model_name": "LayoutModel",
      "state": {
       "_model_module": "@jupyter-widgets/base",
       "_model_module_version": "1.2.0",
       "_model_name": "LayoutModel",
       "_view_count": null,
       "_view_module": "@jupyter-widgets/base",
       "_view_module_version": "1.2.0",
       "_view_name": "LayoutView",
       "align_content": null,
       "align_items": null,
       "align_self": null,
       "border": null,
       "bottom": null,
       "display": null,
       "flex": null,
       "flex_flow": null,
       "grid_area": null,
       "grid_auto_columns": null,
       "grid_auto_flow": null,
       "grid_auto_rows": null,
       "grid_column": null,
       "grid_gap": null,
       "grid_row": null,
       "grid_template_areas": null,
       "grid_template_columns": null,
       "grid_template_rows": null,
       "height": null,
       "justify_content": null,
       "justify_items": null,
       "left": null,
       "margin": null,
       "max_height": null,
       "max_width": null,
       "min_height": null,
       "min_width": null,
       "object_fit": null,
       "object_position": null,
       "order": null,
       "overflow": null,
       "overflow_x": null,
       "overflow_y": null,
       "padding": null,
       "right": null,
       "top": null,
       "visibility": null,
       "width": null
      }
     },
     "7f2569ce2b55410980a50c618f503cc0": {
      "model_module": "@jupyter-widgets/controls",
      "model_module_version": "1.5.0",
      "model_name": "HTMLModel",
      "state": {
       "_dom_classes": [],
       "_model_module": "@jupyter-widgets/controls",
       "_model_module_version": "1.5.0",
       "_model_name": "HTMLModel",
       "_view_count": null,
       "_view_module": "@jupyter-widgets/controls",
       "_view_module_version": "1.5.0",
       "_view_name": "HTMLView",
       "description": "",
       "description_tooltip": null,
       "layout": "IPY_MODEL_1630a4b2c7454b0382e6ba9c8de9d22f",
       "placeholder": "​",
       "style": "IPY_MODEL_9a82ca9d036143608c8eaea0fcb86afe",
       "value": "Downloading (…)solve/main/vocab.txt: 100%"
      }
     },
     "833a9160b66a45ab83fe5cbde6ae2e90": {
      "model_module": "@jupyter-widgets/controls",
      "model_module_version": "1.5.0",
      "model_name": "FloatProgressModel",
      "state": {
       "_dom_classes": [],
       "_model_module": "@jupyter-widgets/controls",
       "_model_module_version": "1.5.0",
       "_model_name": "FloatProgressModel",
       "_view_count": null,
       "_view_module": "@jupyter-widgets/controls",
       "_view_module_version": "1.5.0",
       "_view_name": "ProgressView",
       "bar_style": "success",
       "description": "",
       "description_tooltip": null,
       "layout": "IPY_MODEL_4cf9d011c22b4c5a9d7012d8635219a6",
       "max": 267832558.0,
       "min": 0.0,
       "orientation": "horizontal",
       "style": "IPY_MODEL_e847506a98994973b62cf7dcd3a13134",
       "value": 267832558.0
      }
     },
     "8ff6d4ab8a4144148bf5e8329ed07d9f": {
      "model_module": "@jupyter-widgets/controls",
      "model_module_version": "1.5.0",
      "model_name": "HTMLModel",
      "state": {
       "_dom_classes": [],
       "_model_module": "@jupyter-widgets/controls",
       "_model_module_version": "1.5.0",
       "_model_name": "HTMLModel",
       "_view_count": null,
       "_view_module": "@jupyter-widgets/controls",
       "_view_module_version": "1.5.0",
       "_view_name": "HTMLView",
       "description": "",
       "description_tooltip": null,
       "layout": "IPY_MODEL_6c8bf7e0d92d43528dfcbba67af9a18f",
       "placeholder": "​",
       "style": "IPY_MODEL_9776283157c4445b905e130f85807de7",
       "value": " 268M/268M [00:00&lt;00:00, 347MB/s]"
      }
     },
     "916f7689a6a84c31b457e7aff8e5e2fd": {
      "model_module": "@jupyter-widgets/controls",
      "model_module_version": "1.5.0",
      "model_name": "ProgressStyleModel",
      "state": {
       "_model_module": "@jupyter-widgets/controls",
       "_model_module_version": "1.5.0",
       "_model_name": "ProgressStyleModel",
       "_view_count": null,
       "_view_module": "@jupyter-widgets/base",
       "_view_module_version": "1.2.0",
       "_view_name": "StyleView",
       "bar_color": null,
       "description_width": ""
      }
     },
     "9776283157c4445b905e130f85807de7": {
      "model_module": "@jupyter-widgets/controls",
      "model_module_version": "1.5.0",
      "model_name": "DescriptionStyleModel",
      "state": {
       "_model_module": "@jupyter-widgets/controls",
       "_model_module_version": "1.5.0",
       "_model_name": "DescriptionStyleModel",
       "_view_count": null,
       "_view_module": "@jupyter-widgets/base",
       "_view_module_version": "1.2.0",
       "_view_name": "StyleView",
       "description_width": ""
      }
     },
     "98d7124fd2494371944c4e7d1337f3e0": {
      "model_module": "@jupyter-widgets/controls",
      "model_module_version": "1.5.0",
      "model_name": "FloatProgressModel",
      "state": {
       "_dom_classes": [],
       "_model_module": "@jupyter-widgets/controls",
       "_model_module_version": "1.5.0",
       "_model_name": "FloatProgressModel",
       "_view_count": null,
       "_view_module": "@jupyter-widgets/controls",
       "_view_module_version": "1.5.0",
       "_view_name": "ProgressView",
       "bar_style": "success",
       "description": "",
       "description_tooltip": null,
       "layout": "IPY_MODEL_390762bc90d24b2ab6a1527ea8574f40",
       "max": 48.0,
       "min": 0.0,
       "orientation": "horizontal",
       "style": "IPY_MODEL_c7bfa4d29d0d4f769bcdfcd9282ebf3d",
       "value": 48.0
      }
     },
     "9a6bf997fa734f0585025f579ffcaa49": {
      "model_module": "@jupyter-widgets/base",
      "model_module_version": "1.2.0",
      "model_name": "LayoutModel",
      "state": {
       "_model_module": "@jupyter-widgets/base",
       "_model_module_version": "1.2.0",
       "_model_name": "LayoutModel",
       "_view_count": null,
       "_view_module": "@jupyter-widgets/base",
       "_view_module_version": "1.2.0",
       "_view_name": "LayoutView",
       "align_content": null,
       "align_items": null,
       "align_self": null,
       "border": null,
       "bottom": null,
       "display": null,
       "flex": null,
       "flex_flow": null,
       "grid_area": null,
       "grid_auto_columns": null,
       "grid_auto_flow": null,
       "grid_auto_rows": null,
       "grid_column": null,
       "grid_gap": null,
       "grid_row": null,
       "grid_template_areas": null,
       "grid_template_columns": null,
       "grid_template_rows": null,
       "height": null,
       "justify_content": null,
       "justify_items": null,
       "left": null,
       "margin": null,
       "max_height": null,
       "max_width": null,
       "min_height": null,
       "min_width": null,
       "object_fit": null,
       "object_position": null,
       "order": null,
       "overflow": null,
       "overflow_x": null,
       "overflow_y": null,
       "padding": null,
       "right": null,
       "top": null,
       "visibility": null,
       "width": null
      }
     },
     "9a82ca9d036143608c8eaea0fcb86afe": {
      "model_module": "@jupyter-widgets/controls",
      "model_module_version": "1.5.0",
      "model_name": "DescriptionStyleModel",
      "state": {
       "_model_module": "@jupyter-widgets/controls",
       "_model_module_version": "1.5.0",
       "_model_name": "DescriptionStyleModel",
       "_view_count": null,
       "_view_module": "@jupyter-widgets/base",
       "_view_module_version": "1.2.0",
       "_view_name": "StyleView",
       "description_width": ""
      }
     },
     "9b26cdb972424c6bafe5e84f8bcd2b57": {
      "model_module": "@jupyter-widgets/controls",
      "model_module_version": "1.5.0",
      "model_name": "DescriptionStyleModel",
      "state": {
       "_model_module": "@jupyter-widgets/controls",
       "_model_module_version": "1.5.0",
       "_model_name": "DescriptionStyleModel",
       "_view_count": null,
       "_view_module": "@jupyter-widgets/base",
       "_view_module_version": "1.2.0",
       "_view_name": "StyleView",
       "description_width": ""
      }
     },
     "b12214237ee742ad88cb93292813d857": {
      "model_module": "@jupyter-widgets/controls",
      "model_module_version": "1.5.0",
      "model_name": "HTMLModel",
      "state": {
       "_dom_classes": [],
       "_model_module": "@jupyter-widgets/controls",
       "_model_module_version": "1.5.0",
       "_model_name": "HTMLModel",
       "_view_count": null,
       "_view_module": "@jupyter-widgets/controls",
       "_view_module_version": "1.5.0",
       "_view_name": "HTMLView",
       "description": "",
       "description_tooltip": null,
       "layout": "IPY_MODEL_f18857121db34e69976552a263b780f7",
       "placeholder": "​",
       "style": "IPY_MODEL_5a54aec9497a44e5b194866ed60b8014",
       "value": "Downloading (…)lve/main/config.json: 100%"
      }
     },
     "b137528ddcb24ed680acfacb77708c63": {
      "model_module": "@jupyter-widgets/controls",
      "model_module_version": "1.5.0",
      "model_name": "FloatProgressModel",
      "state": {
       "_dom_classes": [],
       "_model_module": "@jupyter-widgets/controls",
       "_model_module_version": "1.5.0",
       "_model_name": "FloatProgressModel",
       "_view_count": null,
       "_view_module": "@jupyter-widgets/controls",
       "_view_module_version": "1.5.0",
       "_view_name": "ProgressView",
       "bar_style": "success",
       "description": "",
       "description_tooltip": null,
       "layout": "IPY_MODEL_7e75d3c13b7447df9007c23908967b7f",
       "max": 629.0,
       "min": 0.0,
       "orientation": "horizontal",
       "style": "IPY_MODEL_916f7689a6a84c31b457e7aff8e5e2fd",
       "value": 629.0
      }
     },
     "b37c8721c28d4a769b61ebda973a17fa": {
      "model_module": "@jupyter-widgets/controls",
      "model_module_version": "1.5.0",
      "model_name": "HBoxModel",
      "state": {
       "_dom_classes": [],
       "_model_module": "@jupyter-widgets/controls",
       "_model_module_version": "1.5.0",
       "_model_name": "HBoxModel",
       "_view_count": null,
       "_view_module": "@jupyter-widgets/controls",
       "_view_module_version": "1.5.0",
       "_view_name": "HBoxView",
       "box_style": "",
       "children": [
        "IPY_MODEL_2c8b0aeb163b4bce9e2b2d3ff1c913fa",
        "IPY_MODEL_98d7124fd2494371944c4e7d1337f3e0",
        "IPY_MODEL_0a8ffaa0f6c94376baca3b3cf865e6dd"
       ],
       "layout": "IPY_MODEL_7b31c619e9c349919fa9dc6ab4dede68"
      }
     },
     "b441254671484680967037e971634900": {
      "model_module": "@jupyter-widgets/controls",
      "model_module_version": "1.5.0",
      "model_name": "HBoxModel",
      "state": {
       "_dom_classes": [],
       "_model_module": "@jupyter-widgets/controls",
       "_model_module_version": "1.5.0",
       "_model_name": "HBoxModel",
       "_view_count": null,
       "_view_module": "@jupyter-widgets/controls",
       "_view_module_version": "1.5.0",
       "_view_name": "HBoxView",
       "box_style": "",
       "children": [
        "IPY_MODEL_b12214237ee742ad88cb93292813d857",
        "IPY_MODEL_b137528ddcb24ed680acfacb77708c63",
        "IPY_MODEL_7921a78dddf04e7181a079ebc787ff91"
       ],
       "layout": "IPY_MODEL_2286cb3ac9c347879b7ca7266eef9c73"
      }
     },
     "c7bfa4d29d0d4f769bcdfcd9282ebf3d": {
      "model_module": "@jupyter-widgets/controls",
      "model_module_version": "1.5.0",
      "model_name": "ProgressStyleModel",
      "state": {
       "_model_module": "@jupyter-widgets/controls",
       "_model_module_version": "1.5.0",
       "_model_name": "ProgressStyleModel",
       "_view_count": null,
       "_view_module": "@jupyter-widgets/base",
       "_view_module_version": "1.2.0",
       "_view_name": "StyleView",
       "bar_color": null,
       "description_width": ""
      }
     },
     "d252edbc7e0e40bc80a391ad8f0c95c7": {
      "model_module": "@jupyter-widgets/controls",
      "model_module_version": "1.5.0",
      "model_name": "HTMLModel",
      "state": {
       "_dom_classes": [],
       "_model_module": "@jupyter-widgets/controls",
       "_model_module_version": "1.5.0",
       "_model_name": "HTMLModel",
       "_view_count": null,
       "_view_module": "@jupyter-widgets/controls",
       "_view_module_version": "1.5.0",
       "_view_name": "HTMLView",
       "description": "",
       "description_tooltip": null,
       "layout": "IPY_MODEL_fff5190c9e81444da20ae9789164eb74",
       "placeholder": "​",
       "style": "IPY_MODEL_60ebcb431f8248fdb57e9732b90dca9e",
       "value": " 232k/232k [00:00&lt;00:00, 1.19MB/s]"
      }
     },
     "e847506a98994973b62cf7dcd3a13134": {
      "model_module": "@jupyter-widgets/controls",
      "model_module_version": "1.5.0",
      "model_name": "ProgressStyleModel",
      "state": {
       "_model_module": "@jupyter-widgets/controls",
       "_model_module_version": "1.5.0",
       "_model_name": "ProgressStyleModel",
       "_view_count": null,
       "_view_module": "@jupyter-widgets/base",
       "_view_module_version": "1.2.0",
       "_view_name": "StyleView",
       "bar_color": null,
       "description_width": ""
      }
     },
     "f18857121db34e69976552a263b780f7": {
      "model_module": "@jupyter-widgets/base",
      "model_module_version": "1.2.0",
      "model_name": "LayoutModel",
      "state": {
       "_model_module": "@jupyter-widgets/base",
       "_model_module_version": "1.2.0",
       "_model_name": "LayoutModel",
       "_view_count": null,
       "_view_module": "@jupyter-widgets/base",
       "_view_module_version": "1.2.0",
       "_view_name": "LayoutView",
       "align_content": null,
       "align_items": null,
       "align_self": null,
       "border": null,
       "bottom": null,
       "display": null,
       "flex": null,
       "flex_flow": null,
       "grid_area": null,
       "grid_auto_columns": null,
       "grid_auto_flow": null,
       "grid_auto_rows": null,
       "grid_column": null,
       "grid_gap": null,
       "grid_row": null,
       "grid_template_areas": null,
       "grid_template_columns": null,
       "grid_template_rows": null,
       "height": null,
       "justify_content": null,
       "justify_items": null,
       "left": null,
       "margin": null,
       "max_height": null,
       "max_width": null,
       "min_height": null,
       "min_width": null,
       "object_fit": null,
       "object_position": null,
       "order": null,
       "overflow": null,
       "overflow_x": null,
       "overflow_y": null,
       "padding": null,
       "right": null,
       "top": null,
       "visibility": null,
       "width": null
      }
     },
     "f7f8c2bdfd564bcfbeb45b07eb6932a2": {
      "model_module": "@jupyter-widgets/base",
      "model_module_version": "1.2.0",
      "model_name": "LayoutModel",
      "state": {
       "_model_module": "@jupyter-widgets/base",
       "_model_module_version": "1.2.0",
       "_model_name": "LayoutModel",
       "_view_count": null,
       "_view_module": "@jupyter-widgets/base",
       "_view_module_version": "1.2.0",
       "_view_name": "LayoutView",
       "align_content": null,
       "align_items": null,
       "align_self": null,
       "border": null,
       "bottom": null,
       "display": null,
       "flex": null,
       "flex_flow": null,
       "grid_area": null,
       "grid_auto_columns": null,
       "grid_auto_flow": null,
       "grid_auto_rows": null,
       "grid_column": null,
       "grid_gap": null,
       "grid_row": null,
       "grid_template_areas": null,
       "grid_template_columns": null,
       "grid_template_rows": null,
       "height": null,
       "justify_content": null,
       "justify_items": null,
       "left": null,
       "margin": null,
       "max_height": null,
       "max_width": null,
       "min_height": null,
       "min_width": null,
       "object_fit": null,
       "object_position": null,
       "order": null,
       "overflow": null,
       "overflow_x": null,
       "overflow_y": null,
       "padding": null,
       "right": null,
       "top": null,
       "visibility": null,
       "width": null
      }
     },
     "fff5190c9e81444da20ae9789164eb74": {
      "model_module": "@jupyter-widgets/base",
      "model_module_version": "1.2.0",
      "model_name": "LayoutModel",
      "state": {
       "_model_module": "@jupyter-widgets/base",
       "_model_module_version": "1.2.0",
       "_model_name": "LayoutModel",
       "_view_count": null,
       "_view_module": "@jupyter-widgets/base",
       "_view_module_version": "1.2.0",
       "_view_name": "LayoutView",
       "align_content": null,
       "align_items": null,
       "align_self": null,
       "border": null,
       "bottom": null,
       "display": null,
       "flex": null,
       "flex_flow": null,
       "grid_area": null,
       "grid_auto_columns": null,
       "grid_auto_flow": null,
       "grid_auto_rows": null,
       "grid_column": null,
       "grid_gap": null,
       "grid_row": null,
       "grid_template_areas": null,
       "grid_template_columns": null,
       "grid_template_rows": null,
       "height": null,
       "justify_content": null,
       "justify_items": null,
       "left": null,
       "margin": null,
       "max_height": null,
       "max_width": null,
       "min_height": null,
       "min_width": null,
       "object_fit": null,
       "object_position": null,
       "order": null,
       "overflow": null,
       "overflow_x": null,
       "overflow_y": null,
       "padding": null,
       "right": null,
       "top": null,
       "visibility": null,
       "width": null
      }
     }
    },
    "version_major": 2,
    "version_minor": 0
   }
  }
 },
 "nbformat": 4,
 "nbformat_minor": 5
}
